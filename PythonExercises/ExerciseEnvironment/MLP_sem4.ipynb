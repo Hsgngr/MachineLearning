{
 "cells": [
  {
   "cell_type": "code",
   "execution_count": 29,
   "metadata": {
    "pycharm": {
     "is_executing": true
    }
   },
   "outputs": [],
   "source": [
    "from sklearn.neural_network import MLPClassifier\n",
    "import math\n",
    "#clf = MLPClassifier(solver='lbfgs',hidden_layer_sizes=(1,2), random_state=1)\n"
   ]
  },
  {
   "cell_type": "code",
   "execution_count": 61,
   "metadata": {
    "pycharm": {
     "is_executing": false,
     "name": "#%%\n"
    }
   },
   "outputs": [],
   "source": [
    "#Input\n",
    "X = [0.,1.]\n",
    "#Target\n",
    "y = [1.,0.]"
   ]
  },
  {
   "cell_type": "code",
   "execution_count": 79,
   "metadata": {
    "pycharm": {
     "name": "#%%\n",
     "is_executing": false
    }
   },
   "outputs": [],
   "source": [
    "#Set the initial weights:\n",
    "v11 = -1\n",
    "v21 = 0\n",
    "v12 = 0\n",
    "v22 = 1\n",
    "w11= 1\n",
    "w21 = -1\n",
    "w12 = 0\n",
    "w22 = 1\n",
    "\n",
    "bias1=1\n",
    "bias2=1\n",
    "\n",
    "#Sigmoid function for activation function:\n",
    "def g(x):\n",
    "    #return 1 / (1 + math.exp(-x))\n",
    "    return x"
   ]
  },
  {
   "cell_type": "code",
   "execution_count": 63,
   "metadata": {
    "pycharm": {
     "is_executing": false
    }
   },
   "outputs": [],
   "source": [
    "u1 =(X[0] * v11) + (X[1] * v12 ) + bias1\n",
    "u2 =(X[0] * v21) + (X[1] * v22 ) + bias1\n",
    "\n",
    "#First layer outputs:\n",
    "z1=g(u1)\n",
    "z2=g(u2)\n",
    "# z1,z2 (0.7310585786300049, 0.8807970779778823)"
   ]
  },
  {
   "cell_type": "code",
   "execution_count": 64,
   "metadata": {
    "pycharm": {
     "is_executing": false
    }
   },
   "outputs": [],
   "source": [
    "a1=(z1 * w11) + (z2 * w12 ) + bias2\n",
    "a2=(z1 * w21) + (z2 * w22 ) + bias2\n",
    "\n",
    "#Ouput of second layer:\n",
    "y1=g(a1)\n",
    "y2=g(a2)\n",
    "\n",
    "#y1,y2 (0.7006219953262971, 0.8677026536525567)"
   ]
  },
  {
   "cell_type": "code",
   "execution_count": 65,
   "metadata": {
    "pycharm": {
     "is_executing": false
    }
   },
   "outputs": [],
   "source": [
    "#BackwardPass\n",
    "Delta1 = -(y[0] - y1)\n",
    "Delta2 = -(y[1] - y2)\n",
    "# Delta1,Delta2 (-0.2993780046737029, 0.8677026536525567)"
   ]
  },
  {
   "cell_type": "code",
   "execution_count": 52,
   "metadata": {
    "pycharm": {
     "is_executing": false
    }
   },
   "outputs": [
    {
     "data": {
      "text/plain": "(-1.0, 2.0)"
     },
     "metadata": {},
     "output_type": "execute_result",
     "execution_count": 52
    }
   ],
   "source": [
    "δ1= (Delta1 * w11) + (Delta2 * w21)\n",
    "δ2= (Delta1 * w12) + (Delta2 * w22)\n",
    "# δ1,δ2  (-1.1670806583262596, 0.8677026536525567)\n",
    "δ1,δ2"
   ]
  },
  {
   "cell_type": "code",
   "execution_count": 80,
   "metadata": {
    "pycharm": {
     "is_executing": false
    }
   },
   "outputs": [],
   "source": [
    "rate= 0.1\n",
    "temp = v11 - (rate * δ1 * X[0])\n",
    "v11 = temp + 1\n",
    "\n",
    "temp = v12 + 1\n",
    "newWeight = temp - v12 - (rate * δ1 * X[1])\n",
    "v12 = v12 - newWeight"
   ]
  },
  {
   "cell_type": "code",
   "execution_count": 81,
   "outputs": [
    {
     "data": {
      "text/plain": "-1.1"
     },
     "metadata": {},
     "output_type": "execute_result",
     "execution_count": 81
    }
   ],
   "source": [
    "v12\n",
    "\n"
   ],
   "metadata": {
    "collapsed": false,
    "pycharm": {
     "name": "#%%\n",
     "is_executing": false
    }
   }
  },
  {
   "cell_type": "code",
   "execution_count": null,
   "outputs": [],
   "source": [
    "\n"
   ],
   "metadata": {
    "collapsed": false,
    "pycharm": {
     "name": "#%%\n"
    }
   }
  }
 ],
 "metadata": {
  "kernelspec": {
   "display_name": "Python 3",
   "language": "python",
   "name": "python3"
  },
  "language_info": {
   "codemirror_mode": {
    "name": "ipython",
    "version": 3
   },
   "file_extension": ".py",
   "mimetype": "text/x-python",
   "name": "python",
   "nbconvert_exporter": "python",
   "pygments_lexer": "ipython3",
   "version": "3.8.1"
  },
  "pycharm": {
   "stem_cell": {
    "cell_type": "raw",
    "source": [],
    "metadata": {
     "collapsed": false
    }
   }
  }
 },
 "nbformat": 4,
 "nbformat_minor": 1
}