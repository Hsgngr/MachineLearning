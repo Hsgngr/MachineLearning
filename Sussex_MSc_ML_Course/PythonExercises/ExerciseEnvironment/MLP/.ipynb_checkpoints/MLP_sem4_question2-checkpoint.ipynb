{
 "cells": [
  {
   "cell_type": "code",
   "execution_count": 8,
   "metadata": {
    "pycharm": {
     "is_executing": false
    }
   },
   "outputs": [],
   "source": [
    "#This time I'm trying to implement MLP with loops and matrices\n",
    "\n",
    "#Input\n",
    "X = [0.,1.]\n",
    "#Target\n",
    "y = [1.,0.]\n",
    "\n",
    "#Set the initial weights:\n",
    "v=[[-1,0],[0,1]]\n",
    "w=[[1,-1],[0,1]]\n",
    "v11 = -1\n",
    "v21 = 0\n",
    "v12 = 0\n",
    "v22 = 1\n",
    "\n",
    "w11= 1\n",
    "w21 = -1\n",
    "w12 = 0\n",
    "w22 = 1\n",
    "\n",
    "bias1=1\n",
    "bias2=1\n",
    "\n",
    "#Sigmoid function for activation function:\n",
    "def g(x):\n",
    "    #return 1 / (1 + math.exp(-x))\n",
    "    return x"
   ]
  },
  {
   "cell_type": "code",
   "execution_count": 9,
   "metadata": {
    "pycharm": {
     "name": "#%%\n"
    }
   },
   "outputs": [
    {
     "data": {
      "text/plain": [
       "([[-1, 0], [0, 1]], [[1, -1], [0, 1]])"
      ]
     },
     "execution_count": 9,
     "metadata": {},
     "output_type": "execute_result"
    }
   ],
   "source": [
    "#create u matrix\n",
    "u=[0.,0.] \n"
   ]
  },
  {
   "cell_type": "code",
   "execution_count": null,
   "metadata": {},
   "outputs": [],
   "source": []
  }
 ],
 "metadata": {
  "kernelspec": {
   "display_name": "Python 3",
   "language": "python",
   "name": "python3"
  },
  "language_info": {
   "codemirror_mode": {
    "name": "ipython",
    "version": 3
   },
   "file_extension": ".py",
   "mimetype": "text/x-python",
   "name": "python",
   "nbconvert_exporter": "python",
   "pygments_lexer": "ipython3",
   "version": "3.8.1"
  },
  "pycharm": {
   "stem_cell": {
    "cell_type": "raw",
    "metadata": {
     "collapsed": false
    },
    "source": []
   }
  }
 },
 "nbformat": 4,
 "nbformat_minor": 1
}
