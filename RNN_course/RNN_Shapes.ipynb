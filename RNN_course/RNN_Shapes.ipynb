{
  "nbformat": 4,
  "nbformat_minor": 0,
  "metadata": {
    "colab": {
      "name": "RNN Shapes.ipynb",
      "provenance": []
    },
    "kernelspec": {
      "name": "python3",
      "display_name": "Python 3"
    }
  },
  "cells": [
    {
      "cell_type": "code",
      "metadata": {
        "id": "a9_v3aELg_sy"
      },
      "source": [
        "from tensorflow.keras.layers import Input,Dense,SimpleRNN, Flatten\n",
        "from tensorflow.keras.models import Model\n",
        "from tensorflow.keras.optimizers import SGD,Adam\n",
        "\n",
        "import numpy as np\n",
        "import pandas as pd\n",
        "import matplotlib.pyplot as plt"
      ],
      "execution_count": 1,
      "outputs": []
    },
    {
      "cell_type": "code",
      "metadata": {
        "id": "E-lE5P86hWY3"
      },
      "source": [
        "##Things you should automatically  know and have memorized\n",
        "#N = number of samples\n",
        "#T = sequence length\n",
        "#D = Number of input features\n",
        "#M = Number of hidden units\n",
        "#K =Number of output units"
      ],
      "execution_count": 2,
      "outputs": []
    },
    {
      "cell_type": "code",
      "metadata": {
        "id": "LxGZKICphw-A"
      },
      "source": [
        "#Make some data\n",
        "N = 1\n",
        "T = 10\n",
        "D = 3\n",
        "K = 2\n",
        "X =np.random.randn(N,T,D)"
      ],
      "execution_count": 3,
      "outputs": []
    },
    {
      "cell_type": "code",
      "metadata": {
        "id": "Stk7S25Jh6qz",
        "outputId": "d4d44923-f259-493d-e3fe-a5afc7c4c82e",
        "colab": {
          "base_uri": "https://localhost:8080/",
          "height": 187
        }
      },
      "source": [
        "X"
      ],
      "execution_count": 4,
      "outputs": [
        {
          "output_type": "execute_result",
          "data": {
            "text/plain": [
              "array([[[-0.05137207,  0.44801364,  1.60180604],\n",
              "        [-0.06319191,  0.20798733,  0.96020624],\n",
              "        [ 0.91928665, -1.04723045,  0.71334942],\n",
              "        [ 0.90963896, -0.83005337, -0.43358196],\n",
              "        [ 0.44530591, -1.5153067 , -0.25032755],\n",
              "        [-2.16030545, -0.37537482, -1.36430583],\n",
              "        [-0.991054  ,  0.59199417, -0.48505332],\n",
              "        [ 1.32058217, -0.54827316, -0.76771184],\n",
              "        [-0.22489631, -1.52472617,  2.36305336],\n",
              "        [-1.63121219, -0.50763436, -0.83402387]]])"
            ]
          },
          "metadata": {
            "tags": []
          },
          "execution_count": 4
        }
      ]
    },
    {
      "cell_type": "code",
      "metadata": {
        "id": "R9txL_xih7vU"
      },
      "source": [
        "#Make an RNN\n",
        "M = 5 #number of hidden units\n",
        "i = Input(shape =(T,D))\n",
        "x = SimpleRNN(M)(i)\n",
        "x = Dense(K)(x)\n",
        "\n",
        "model =Model(i, x)"
      ],
      "execution_count": 6,
      "outputs": []
    },
    {
      "cell_type": "code",
      "metadata": {
        "id": "wVM1yjfripxi",
        "outputId": "9679bfdf-a417-47d7-ab0e-91e6d49ec2c6",
        "colab": {
          "base_uri": "https://localhost:8080/",
          "height": 34
        }
      },
      "source": [
        "#Get the output\n",
        "Yhat = model.predict(X)\n",
        "print(Yhat)"
      ],
      "execution_count": 21,
      "outputs": [
        {
          "output_type": "stream",
          "text": [
            "[[-0.79327434  0.01528658]]\n"
          ],
          "name": "stdout"
        }
      ]
    },
    {
      "cell_type": "code",
      "metadata": {
        "id": "YpTCHvEviyj0",
        "outputId": "b410b435-3a18-4b0b-8253-d6cbca6cb11f",
        "colab": {
          "base_uri": "https://localhost:8080/",
          "height": 255
        }
      },
      "source": [
        "#See if we can replicate this output\n",
        "#Get the weights first\n",
        "model.summary()"
      ],
      "execution_count": 22,
      "outputs": [
        {
          "output_type": "stream",
          "text": [
            "Model: \"functional_3\"\n",
            "_________________________________________________________________\n",
            "Layer (type)                 Output Shape              Param #   \n",
            "=================================================================\n",
            "input_2 (InputLayer)         [(None, 10, 3)]           0         \n",
            "_________________________________________________________________\n",
            "simple_rnn_1 (SimpleRNN)     (None, 5)                 45        \n",
            "_________________________________________________________________\n",
            "dense_1 (Dense)              (None, 2)                 12        \n",
            "=================================================================\n",
            "Total params: 57\n",
            "Trainable params: 57\n",
            "Non-trainable params: 0\n",
            "_________________________________________________________________\n"
          ],
          "name": "stdout"
        }
      ]
    },
    {
      "cell_type": "code",
      "metadata": {
        "id": "Jgv3oR5Gi6fi",
        "outputId": "167bcda2-0c3d-4684-ac46-abfee13da5d5",
        "colab": {
          "base_uri": "https://localhost:8080/",
          "height": 204
        }
      },
      "source": [
        "#See what's returned\n",
        "model.layers[1].get_weights()"
      ],
      "execution_count": 23,
      "outputs": [
        {
          "output_type": "execute_result",
          "data": {
            "text/plain": [
              "[array([[-0.6199136 , -0.41290352,  0.61526257, -0.65031916,  0.563682  ],\n",
              "        [ 0.5577951 ,  0.6126407 ,  0.7336349 , -0.6990365 , -0.38740078],\n",
              "        [-0.05981624, -0.05361247,  0.81018096, -0.83001095,  0.04288495]],\n",
              "       dtype=float32),\n",
              " array([[ 0.7505976 , -0.55651826,  0.26421338,  0.22888437,  0.06851096],\n",
              "        [-0.31120002,  0.13835776,  0.8262481 ,  0.30453297,  0.32952288],\n",
              "        [ 0.3445085 ,  0.3030033 ,  0.339734  , -0.8149803 ,  0.09945287],\n",
              "        [ 0.45883206,  0.7548065 , -0.0462339 ,  0.4346481 , -0.16936249],\n",
              "        [ 0.10268752,  0.09798254, -0.36048377,  0.04194967,  0.9209486 ]],\n",
              "       dtype=float32),\n",
              " array([0., 0., 0., 0., 0.], dtype=float32)]"
            ]
          },
          "metadata": {
            "tags": []
          },
          "execution_count": 23
        }
      ]
    },
    {
      "cell_type": "code",
      "metadata": {
        "id": "EEoFv88kjOWN",
        "outputId": "b9d63a1f-5c93-4fdc-9ac2-6c820fdcf2dc",
        "colab": {
          "base_uri": "https://localhost:8080/",
          "height": 34
        }
      },
      "source": [
        "#Check their shapes\n",
        "#Should make sense\n",
        "#First output is input > hidden\n",
        "#Second output is hidden > hidden\n",
        "#Third output is bias term( vector of length M)\n",
        "a,b,c = model.layers[1].get_weights()\n",
        "print(a.shape, b.shape, c.shape)"
      ],
      "execution_count": 24,
      "outputs": [
        {
          "output_type": "stream",
          "text": [
            "(3, 5) (5, 5) (5,)\n"
          ],
          "name": "stdout"
        }
      ]
    },
    {
      "cell_type": "code",
      "metadata": {
        "id": "sAUPR60Ujm92"
      },
      "source": [
        "Wx, Wh, bh = model.layers[1].get_weights() #hidden layer\n",
        "Wo, bo = model.layers[2].get_weights() # output layer"
      ],
      "execution_count": 25,
      "outputs": []
    },
    {
      "cell_type": "code",
      "metadata": {
        "id": "MZ381oBClW4m",
        "outputId": "ac2ed688-01db-42ab-88d8-ca5f0cfac4cd",
        "colab": {
          "base_uri": "https://localhost:8080/",
          "height": 34
        }
      },
      "source": [
        "h_last = np.zeros(M) #initial hidden state\n",
        "x= X[0] #where we store the outputs\n",
        "Yhats = []\n",
        "\n",
        "for t in range(T):\n",
        "  h = np.tanh(x[t].dot(Wx) + h_last.dot(Wh) + bh)\n",
        "  y = h.dot(Wo) + bo #We only care about this value on the last iteration\n",
        "  Yhats.append(y)\n",
        "\n",
        "  #important: assign h to h_last\n",
        "  h_last = h\n",
        "\n",
        "#print the final ouput\n",
        "print(Yhats[-1])"
      ],
      "execution_count": 26,
      "outputs": [
        {
          "output_type": "stream",
          "text": [
            "[-0.79327438  0.01528642]\n"
          ],
          "name": "stdout"
        }
      ]
    },
    {
      "cell_type": "code",
      "metadata": {
        "id": "My1qsE9ImA4T"
      },
      "source": [
        ""
      ],
      "execution_count": 27,
      "outputs": []
    },
    {
      "cell_type": "code",
      "metadata": {
        "id": "s7leDAXEmoyr"
      },
      "source": [
        ""
      ],
      "execution_count": 27,
      "outputs": []
    }
  ]
}