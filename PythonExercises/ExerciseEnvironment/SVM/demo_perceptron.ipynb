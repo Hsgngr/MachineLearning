{
 "cells": [
  {
   "cell_type": "code",
   "execution_count": 1,
   "metadata": {
    "colab": {},
    "colab_type": "code",
    "id": "SPaKc8F8il6F"
   },
   "outputs": [],
   "source": [
    "%matplotlib inline\n",
    "import numpy as np\n",
    "import matplotlib.pyplot as plt"
   ]
  },
  {
   "cell_type": "markdown",
   "metadata": {
    "colab_type": "text",
    "id": "ypFZBChCio-X"
   },
   "source": [
    "Generate input data randomly (50 + and 50 -)\n"
   ]
  },
  {
   "cell_type": "code",
   "execution_count": 29,
   "metadata": {
    "colab": {},
    "colab_type": "code",
    "id": "Bk4VIIfYixnj"
   },
   "outputs": [
    {
     "data": {
      "text/plain": [
       "array([[6.90941816e-01, 3.96678277e-01, 7.08662691e-02, 6.58934451e-01,\n",
       "        2.66770903e-02, 6.36386603e-01, 3.05276429e-01, 7.38808572e-01,\n",
       "        7.21391002e-01, 7.96073961e-01, 9.50423312e-01, 4.26284079e-01,\n",
       "        7.95254741e-01, 5.22455477e-01, 8.69660499e-01, 1.46403880e-01,\n",
       "        5.43415085e-02, 8.45135028e-01, 2.07393385e-03, 4.91637623e-01,\n",
       "        9.11902795e-01, 8.33141043e-01, 3.70452413e-01, 3.90705464e-01,\n",
       "        6.85053549e-01, 1.52459266e-01, 5.53068275e-01, 5.26044374e-01,\n",
       "        3.33880870e-01, 4.80556066e-01, 1.37748694e-01, 5.13379975e-01,\n",
       "        7.03018691e-01, 2.74890602e-01, 6.71136471e-01, 2.99756718e-01,\n",
       "        6.70863678e-01, 1.20637521e-01, 7.49420020e-01, 6.72824031e-02,\n",
       "        1.88132447e-01, 3.40221772e-01, 6.49379116e-02, 1.15076945e-01,\n",
       "        2.26145758e-02, 5.20126959e-01, 1.67767129e-01, 8.72874159e-01,\n",
       "        2.35159131e-01, 8.38096866e-02, 6.52681530e-01, 5.39385812e-02,\n",
       "        7.48587134e-01, 4.97913369e-01, 2.84824573e-01, 7.68814937e-01,\n",
       "        8.30195152e-01, 9.54116059e-01, 4.68993221e-01, 4.01578919e-01,\n",
       "        7.44292433e-01, 4.36717203e-01, 3.62161058e-01, 6.11643232e-01,\n",
       "        5.16964713e-01, 4.28612690e-01, 8.45643405e-01, 2.04089932e-01,\n",
       "        1.87585981e-01, 5.50163910e-02, 8.03802233e-01, 9.66631470e-01,\n",
       "        3.99106845e-01, 9.54404393e-03, 9.24913186e-01, 8.36893003e-01,\n",
       "        2.59740546e-01, 1.49608445e-01, 7.72871906e-01, 9.21017009e-01,\n",
       "        8.46935769e-01, 2.30054799e-01, 6.97019360e-01, 3.20039600e-01,\n",
       "        6.98288005e-01, 2.56623015e-02, 7.37792501e-01, 9.33443578e-01,\n",
       "        6.37565490e-01, 8.60699622e-01, 6.26300483e-01, 6.71277787e-01,\n",
       "        3.51814223e-01, 9.62834286e-01, 8.70412772e-01, 8.63743925e-03,\n",
       "        1.19192637e-01, 3.32909497e-01, 5.61172456e-01, 2.07675117e-01],\n",
       "       [3.38465632e-02, 3.17014274e-01, 6.51112829e-01, 3.65445215e-01,\n",
       "        4.65095435e-01, 5.91556399e-01, 2.55560783e-01, 6.70110701e-01,\n",
       "        4.72325112e-01, 3.33128334e-01, 6.06956916e-01, 8.16840812e-01,\n",
       "        8.39910459e-01, 8.48225884e-01, 2.07612284e-01, 6.72429202e-01,\n",
       "        3.85674495e-01, 4.89489045e-01, 9.92853709e-02, 4.64984346e-01,\n",
       "        6.32933164e-01, 7.55917261e-02, 9.81490945e-02, 6.75272612e-01,\n",
       "        4.65290778e-01, 2.88389269e-01, 3.31671220e-01, 4.41125302e-01,\n",
       "        3.75803173e-01, 3.23785590e-01, 2.21863846e-01, 3.66702838e-01,\n",
       "        6.41727160e-01, 4.36658060e-01, 7.52853555e-01, 2.63186142e-01,\n",
       "        2.42584789e-01, 7.52571803e-01, 4.14608703e-01, 3.91326727e-01,\n",
       "        2.32651787e-01, 7.26602447e-01, 9.54865689e-01, 3.26109926e-01,\n",
       "        5.11241288e-01, 3.55375474e-01, 4.14894440e-01, 8.55331313e-01,\n",
       "        1.77991100e-01, 3.17290719e-01, 2.19852515e+00, 2.21034109e+00,\n",
       "        2.44485919e+00, 2.34199478e+00, 2.09806067e+00, 2.90710054e+00,\n",
       "        2.50696660e+00, 2.90831758e+00, 2.78714816e+00, 2.53736274e+00,\n",
       "        2.44886029e+00, 2.80889200e+00, 2.29757019e+00, 2.75944642e+00,\n",
       "        2.72299778e+00, 2.28253814e+00, 2.14205026e+00, 2.68435382e+00,\n",
       "        2.39442447e+00, 2.53175970e+00, 2.65830070e+00, 2.46546280e+00,\n",
       "        2.65234227e+00, 2.26084257e+00, 2.45555334e+00, 2.57115034e+00,\n",
       "        2.18966823e+00, 2.30169551e+00, 2.04785992e+00, 2.86684234e+00,\n",
       "        2.05234903e+00, 2.50430934e+00, 2.01981481e+00, 2.91583058e+00,\n",
       "        2.03131474e+00, 2.88819194e+00, 2.40710533e+00, 2.00842980e+00,\n",
       "        2.05816525e+00, 2.56201016e+00, 2.74548933e+00, 2.03542430e+00,\n",
       "        2.49524639e+00, 2.16061113e+00, 2.43302366e+00, 2.97013682e+00,\n",
       "        2.18492507e+00, 2.09476035e+00, 2.33881618e+00, 2.70828557e+00],\n",
       "       [1.00000000e+00, 1.00000000e+00, 1.00000000e+00, 1.00000000e+00,\n",
       "        1.00000000e+00, 1.00000000e+00, 1.00000000e+00, 1.00000000e+00,\n",
       "        1.00000000e+00, 1.00000000e+00, 1.00000000e+00, 1.00000000e+00,\n",
       "        1.00000000e+00, 1.00000000e+00, 1.00000000e+00, 1.00000000e+00,\n",
       "        1.00000000e+00, 1.00000000e+00, 1.00000000e+00, 1.00000000e+00,\n",
       "        1.00000000e+00, 1.00000000e+00, 1.00000000e+00, 1.00000000e+00,\n",
       "        1.00000000e+00, 1.00000000e+00, 1.00000000e+00, 1.00000000e+00,\n",
       "        1.00000000e+00, 1.00000000e+00, 1.00000000e+00, 1.00000000e+00,\n",
       "        1.00000000e+00, 1.00000000e+00, 1.00000000e+00, 1.00000000e+00,\n",
       "        1.00000000e+00, 1.00000000e+00, 1.00000000e+00, 1.00000000e+00,\n",
       "        1.00000000e+00, 1.00000000e+00, 1.00000000e+00, 1.00000000e+00,\n",
       "        1.00000000e+00, 1.00000000e+00, 1.00000000e+00, 1.00000000e+00,\n",
       "        1.00000000e+00, 1.00000000e+00, 1.00000000e+00, 1.00000000e+00,\n",
       "        1.00000000e+00, 1.00000000e+00, 1.00000000e+00, 1.00000000e+00,\n",
       "        1.00000000e+00, 1.00000000e+00, 1.00000000e+00, 1.00000000e+00,\n",
       "        1.00000000e+00, 1.00000000e+00, 1.00000000e+00, 1.00000000e+00,\n",
       "        1.00000000e+00, 1.00000000e+00, 1.00000000e+00, 1.00000000e+00,\n",
       "        1.00000000e+00, 1.00000000e+00, 1.00000000e+00, 1.00000000e+00,\n",
       "        1.00000000e+00, 1.00000000e+00, 1.00000000e+00, 1.00000000e+00,\n",
       "        1.00000000e+00, 1.00000000e+00, 1.00000000e+00, 1.00000000e+00,\n",
       "        1.00000000e+00, 1.00000000e+00, 1.00000000e+00, 1.00000000e+00,\n",
       "        1.00000000e+00, 1.00000000e+00, 1.00000000e+00, 1.00000000e+00,\n",
       "        1.00000000e+00, 1.00000000e+00, 1.00000000e+00, 1.00000000e+00,\n",
       "        1.00000000e+00, 1.00000000e+00, 1.00000000e+00, 1.00000000e+00,\n",
       "        1.00000000e+00, 1.00000000e+00, 1.00000000e+00, 1.00000000e+00]])"
      ]
     },
     "execution_count": 29,
     "metadata": {},
     "output_type": "execute_result"
    }
   ],
   "source": [
    "X1=np.concatenate((np.random.rand(1,50),np.random.rand(1,50),np.ones((1,50))))  # class '-1'\n",
    "X2=np.concatenate((np.random.rand(1,50),2+np.random.rand(1,50),np.ones((1,50)))) # class '+1'\n",
    "X=np.concatenate((X1,X2),axis=1)\n",
    "X"
   ]
  },
  {
   "cell_type": "markdown",
   "metadata": {
    "colab_type": "text",
    "id": "z-hEsdbWi2zo"
   },
   "source": [
    "Output class [-1,+1]"
   ]
  },
  {
   "cell_type": "code",
   "execution_count": 30,
   "metadata": {
    "colab": {},
    "colab_type": "code",
    "id": "DZp8qIKMi4BM"
   },
   "outputs": [
    {
     "data": {
      "text/plain": [
       "array([-1., -1., -1., -1., -1., -1., -1., -1., -1., -1., -1., -1., -1.,\n",
       "       -1., -1., -1., -1., -1., -1., -1., -1., -1., -1., -1., -1., -1.,\n",
       "       -1., -1., -1., -1., -1., -1., -1., -1., -1., -1., -1., -1., -1.,\n",
       "       -1., -1., -1., -1., -1., -1., -1., -1., -1., -1., -1.,  1.,  1.,\n",
       "        1.,  1.,  1.,  1.,  1.,  1.,  1.,  1.,  1.,  1.,  1.,  1.,  1.,\n",
       "        1.,  1.,  1.,  1.,  1.,  1.,  1.,  1.,  1.,  1.,  1.,  1.,  1.,\n",
       "        1.,  1.,  1.,  1.,  1.,  1.,  1.,  1.,  1.,  1.,  1.,  1.,  1.,\n",
       "        1.,  1.,  1.,  1.,  1.,  1.,  1.,  1.,  1.])"
      ]
     },
     "execution_count": 30,
     "metadata": {},
     "output_type": "execute_result"
    }
   ],
   "source": [
    "Y=np.concatenate((-np.ones((50,)),np.ones((50,))));\n",
    "Y"
   ]
  },
  {
   "cell_type": "markdown",
   "metadata": {
    "colab_type": "text",
    "id": "Czki8hU3i6kP"
   },
   "source": [
    "Initial weight vector - will be updated by the learning algorithm"
   ]
  },
  {
   "cell_type": "code",
   "execution_count": 31,
   "metadata": {
    "colab": {},
    "colab_type": "code",
    "id": "xob5QdEMi-S2"
   },
   "outputs": [
    {
     "data": {
      "text/plain": [
       "array([0.5, 0.5, 0.5])"
      ]
     },
     "execution_count": 31,
     "metadata": {},
     "output_type": "execute_result"
    }
   ],
   "source": [
    "w=np.array([.5,.5,.5])\n",
    "w"
   ]
  },
  {
   "cell_type": "markdown",
   "metadata": {
    "colab_type": "text",
    "id": "hZoTWnSHjC5f"
   },
   "source": [
    "Call **perceptron learning algorithm**"
   ]
  },
  {
   "cell_type": "code",
   "execution_count": 35,
   "metadata": {
    "colab": {},
    "colab_type": "code",
    "id": "pgPYoB7kjFBn"
   },
   "outputs": [],
   "source": [
    "def slperceptron(X,Y,w_init,iter):\n",
    "  #a single layer perceptron learning algorithm\n",
    "  #4 parameters: \n",
    "  #  X is the set of training instances\n",
    "  #  Y is the set of class labels for the training instances\n",
    "  #  w_init is an initial weight vector\n",
    "  #  iter is the number of interations the algorithm will run for\n",
    "  w = w_init\n",
    "  print(X[:,1])\n",
    "  for iteration in range(iter):  #<- in practice, use some stopping criterion!\n",
    "    for ii in range(X.shape[1]): #cycle through training set\n",
    "      if np.sign(np.dot(w,X[:,ii]))!=Y[ii]: #wrong decision?\n",
    "          w = w + X[:,ii] * Y[ii]   #then add (or subtract) this point to w\n",
    "  return w"
   ]
  },
  {
   "cell_type": "code",
   "execution_count": 36,
   "metadata": {
    "colab": {},
    "colab_type": "code",
    "id": "fVCM-i6_jJu-"
   },
   "outputs": [
    {
     "name": "stdout",
     "output_type": "stream",
     "text": [
      "[0.39667828 0.31701427 1.        ]\n"
     ]
    }
   ],
   "source": [
    "wtag=slperceptron(X,Y,w,100);"
   ]
  },
  {
   "cell_type": "markdown",
   "metadata": {
    "colab_type": "text",
    "id": "XznmMp6vjL-K"
   },
   "source": [
    "**Predict** classes"
   ]
  },
  {
   "cell_type": "code",
   "execution_count": 27,
   "metadata": {
    "colab": {},
    "colab_type": "code",
    "id": "Sy3wkL-njPaQ"
   },
   "outputs": [
    {
     "data": {
      "text/plain": [
       "array([-0.89674034, -1.312555  , -1.23646745, -0.21574103, -0.76293895,\n",
       "       -1.06196765, -0.48381586, -0.73674201, -1.12258794, -1.09692492,\n",
       "       -0.34770527, -1.10448096, -0.60434698, -0.36414881, -0.13154771,\n",
       "       -0.7212278 , -0.23804425, -0.97658156, -0.13011961, -0.37842258,\n",
       "       -0.92043313, -1.02564374, -0.61657067, -0.3296432 , -0.86141546,\n",
       "       -0.10495593, -0.2020956 , -1.07558783, -0.33196935, -1.18883764,\n",
       "       -0.17690608, -0.71982333, -0.54606681, -0.81033951, -0.79668625,\n",
       "       -0.49759658, -0.91564857, -1.25102519, -0.32594215, -1.34994443,\n",
       "       -0.16193839, -0.90090076, -0.43388288, -0.1994237 , -1.20439672,\n",
       "       -0.14026359, -0.11948513, -0.72531416, -0.1837226 , -1.40615932,\n",
       "        2.01885473,  1.81311601,  2.23051658,  2.46240253,  1.62383738,\n",
       "        1.40225161,  1.28354631,  1.95141865,  1.38822028,  1.23935835,\n",
       "        1.46327874,  2.07205947,  2.50940881,  1.38277058,  1.49726104,\n",
       "        1.24296577,  1.23051026,  2.11980596,  1.93933218,  1.38131442,\n",
       "        2.08897691,  2.41051196,  2.3681083 ,  1.81516589,  2.26121923,\n",
       "        1.88281506,  2.23861785,  1.74319236,  2.15536415,  1.80165353,\n",
       "        1.6181431 ,  1.27808785,  1.43182614,  1.33029379,  1.76104021,\n",
       "        1.66155871,  1.42780928,  1.33857606,  2.1196297 ,  2.21424683,\n",
       "        1.89825932,  1.93962237,  1.3438385 ,  1.50956828,  1.28463851,\n",
       "        1.1555731 ,  1.72152596,  1.92101461,  1.23672261,  1.83993416])"
      ]
     },
     "execution_count": 27,
     "metadata": {},
     "output_type": "execute_result"
    }
   ],
   "source": [
    "ytag=np.dot(wtag,X)\n",
    "ytag"
   ]
  },
  {
   "cell_type": "markdown",
   "metadata": {
    "colab_type": "text",
    "id": "izCNSTuVkKhG"
   },
   "source": [
    "**Calculate** number of incorrect predictions"
   ]
  },
  {
   "cell_type": "code",
   "execution_count": 25,
   "metadata": {
    "colab": {
     "base_uri": "https://localhost:8080/",
     "height": 34
    },
    "colab_type": "code",
    "id": "CtFBdvkCkM9d",
    "outputId": "c5142e58-294f-4890-cca9-fddda5ee96ee"
   },
   "outputs": [
    {
     "name": "stdout",
     "output_type": "stream",
     "text": [
      "errors 0.00\n"
     ]
    }
   ],
   "source": [
    "errors = np.sum(np.sign(np.dot(wtag,X))!=Y)\n",
    "print(\"errors %.2f\"%errors)"
   ]
  },
  {
   "cell_type": "markdown",
   "metadata": {
    "colab_type": "text",
    "id": "2in3M6C7kSFf"
   },
   "source": [
    "Plot predictions over original data"
   ]
  },
  {
   "cell_type": "code",
   "execution_count": 26,
   "metadata": {
    "colab": {
     "base_uri": "https://localhost:8080/",
     "height": 265
    },
    "colab_type": "code",
    "id": "j58FoX50kV58",
    "outputId": "30494af4-dc5d-4839-fdd1-5e00741799a6"
   },
   "outputs": [
    {
     "data": {
      "image/png": "[encoded data removed]",
      "text/plain": [
       "<Figure size 432x288 with 1 Axes>"
      ]
     },
     "metadata": {
      "needs_background": "light"
     },
     "output_type": "display_data"
    }
   ],
   "source": [
    "plt.scatter(X1[0,:],X1[1,:],c=\"g\",marker=\"+\",label=\"class -1\")\n",
    "plt.scatter(X2[0,:],X2[1,:],c=\"r\",marker=\"x\",label=\"class +1\")\n",
    "\n",
    "plt.scatter(X[0,ytag<0],X[1,ytag<0],s=80, facecolors='none', edgecolors='g',label=\"prediction -\")\n",
    "plt.scatter(X[0,ytag>0],X[1,ytag>0],s=80, facecolors='none', edgecolors='r',label=\"prediction +\")\n",
    "\n",
    "#show linear classification boundary\n",
    "xcoord = np.array([0.0,1.0])\n",
    "ycoord = (wtag[0]*xcoord + wtag[2])/-wtag[1];\n",
    "plt.plot(xcoord,ycoord)\n",
    "plt.legend()\n",
    "plt.show()"
   ]
  },
  {
   "cell_type": "code",
   "execution_count": null,
   "metadata": {},
   "outputs": [],
   "source": []
  }
 ],
 "metadata": {
  "colab": {
   "collapsed_sections": [],
   "name": "demo_perceptron.ipynb",
   "provenance": []
  },
  "kernelspec": {
   "display_name": "Python 3",
   "language": "python",
   "name": "python3"
  },
  "language_info": {
   "codemirror_mode": {
    "name": "ipython",
    "version": 3
   },
   "file_extension": ".py",
   "mimetype": "text/x-python",
   "name": "python",
   "nbconvert_exporter": "python",
   "pygments_lexer": "ipython3",
   "version": "3.8.1"
  }
 },
 "nbformat": 4,
 "nbformat_minor": 1
}
