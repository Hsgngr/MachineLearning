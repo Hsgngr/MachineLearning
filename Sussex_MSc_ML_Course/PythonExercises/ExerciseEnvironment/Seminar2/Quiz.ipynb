{
 "cells": [
  {
   "cell_type": "code",
   "execution_count": 74,
   "metadata": {
    "collapsed": true,
    "pycharm": {
     "is_executing": false
    }
   },
   "outputs": [],
   "source": [
    "#First lets define the cost function which is mean squarred error:\n",
    "def costFunction(Set,w0,w1):\n",
    "    cost=0\n",
    "    m=Set.__len__()\n",
    "    for xy in Set:\n",
    "        cost += ((xy[0]*w1 + w0) - xy[1])**2\n",
    "        elementWiseCost =((xy[0]*w1 + w0) - xy[1])**2\n",
    "        print(\"x= \" + str(xy[0])  + \" cost: \" + str(elementWiseCost))\n",
    "    J= cost *(1/(2*m))\n",
    "    return J\n",
    "    \n",
    "        \n",
    "        \n",
    "    "
   ]
  },
  {
   "cell_type": "code",
   "execution_count": 76,
   "outputs": [
    {
     "name": "stdout",
     "text": [
      "x= 4.0 cost: 6.812099999999997\n",
      "x= 3.0 cost: 0.3599999999999996\n",
      "x= 2.0 cost: 0.1681000000000001\n",
      "x= 1.0 cost: 2.016400000000001\n",
      "1.1695749999999996\n"
     ],
     "output_type": "stream"
    }
   ],
   "source": [
    "mySet = set()\n",
    "mySet.add((1.0,4.5))\n",
    "mySet.add((2.0,7.0))\n",
    "mySet.add((3.0,9.5))\n",
    "mySet.add((4.0,11.0))\n",
    "J =costFunction(mySet,-0.43,3.51)\n",
    "print(J)"
   ],
   "metadata": {
    "collapsed": false,
    "pycharm": {
     "name": "#%%\n",
     "is_executing": false
    }
   }
  },
  {
   "cell_type": "code",
   "execution_count": 67,
   "outputs": [
    {
     "name": "stdout",
     "text": [
      "11.029223266601564\n"
     ],
     "output_type": "stream"
    }
   ],
   "source": [
    "values = list()\n",
    "\n",
    "values.append((3,4.5))\n",
    "values.append((3,7.0))\n",
    "values.append((3,9.5))\n",
    "values.append((3,11.0))\n",
    "J =costFunction(values,1.59,0.14)\n",
    "\n",
    "\n"
   ],
   "metadata": {
    "collapsed": false,
    "pycharm": {
     "name": "#%%\n",
     "is_executing": false
    }
   }
  },
  {
   "cell_type": "code",
   "execution_count": 46,
   "outputs": [],
   "source": [
    "J2 = costFunction(mySet,-1.71,0.58)\n",
    "\n",
    "\n"
   ],
   "metadata": {
    "collapsed": false,
    "pycharm": {
     "name": "#%%\n",
     "is_executing": false
    }
   }
  },
  {
   "cell_type": "code",
   "execution_count": null,
   "outputs": [],
   "source": [
    "\n"
   ],
   "metadata": {
    "collapsed": false,
    "pycharm": {
     "name": "#%%\n"
    }
   }
  }
 ],
 "metadata": {
  "kernelspec": {
   "display_name": "Python 3",
   "language": "python",
   "name": "python3"
  },
  "language_info": {
   "codemirror_mode": {
    "name": "ipython",
    "version": 2
   },
   "file_extension": ".py",
   "mimetype": "text/x-python",
   "name": "python",
   "nbconvert_exporter": "python",
   "pygments_lexer": "ipython2",
   "version": "2.7.6"
  },
  "pycharm": {
   "stem_cell": {
    "cell_type": "raw",
    "source": [],
    "metadata": {
     "collapsed": false
    }
   }
  }
 },
 "nbformat": 4,
 "nbformat_minor": 0
}