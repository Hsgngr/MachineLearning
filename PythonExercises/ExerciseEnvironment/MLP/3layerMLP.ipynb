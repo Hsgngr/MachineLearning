{
 "cells": [
  {
   "cell_type": "code",
   "execution_count": 1,
   "metadata": {
    "collapsed": true,
    "pycharm": {
     "is_executing": false,
     "name": "#%%\n"
    }
   },
   "outputs": [
    {
     "data": {
      "text/plain": "array([ 3.,  7., 14.])"
     },
     "metadata": {},
     "output_type": "execute_result",
     "execution_count": 1
    }
   ],
   "source": [
    "#This is for 3 layer MLP\n",
    "import numpy as np\n",
    "# Input\n",
    "X = [1., 2.]\n",
    "# Target\n",
    "y = [1., 0.]\n",
    "v = np.array([[1., 3., 4], [1., 2., 5.]])\n",
    "u = np.array([[0., 0., 0.], [0., 0., 0.]])\n",
    "\n",
    "for i in range(X.__len__()):\n",
    "    for j in range(len(v[0])):\n",
    "        u[i][j] = (X[i] * v[i][j])\n",
    "\n",
    "u = u.sum(axis=0)\n",
    "\n",
    "u\n"
   ]
  }
 ],
 "metadata": {
  "kernelspec": {
   "display_name": "Python 3",
   "language": "python",
   "name": "python3"
  },
  "language_info": {
   "codemirror_mode": {
    "name": "ipython",
    "version": 2
   },
   "file_extension": ".py",
   "mimetype": "text/x-python",
   "name": "python",
   "nbconvert_exporter": "python",
   "pygments_lexer": "ipython2",
   "version": "2.7.6"
  },
  "pycharm": {
   "stem_cell": {
    "cell_type": "raw",
    "source": [],
    "metadata": {
     "collapsed": false
    }
   }
  }
 },
 "nbformat": 4,
 "nbformat_minor": 0
}