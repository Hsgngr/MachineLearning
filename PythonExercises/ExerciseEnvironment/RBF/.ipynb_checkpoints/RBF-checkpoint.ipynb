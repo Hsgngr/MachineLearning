{
 "cells": [
  {
   "cell_type": "markdown",
   "metadata": {
    "pycharm": {
     "name": "#%%\n"
    }
   },
   "source": [
    "Question 2: code your own RBFThis question follows the RBF interpolation example from Bishop (1995). Begin by plotting the functiony= 0.5 + 0.4 sin(2πx) betweenx= 0 andx= 1. Now generate 30 random data points between 0 and 1 andadd Gaussian noise with standard deviation 0.05 to the correspondingyoutput. Plot the resulting pointson the same graph and proceed as follows:•Using the Gaussian RBF given in the lecture andexact interpolation’train’ an RBF network and plotthe resulting fitted curve (in this example you need to keepσsmall to avoid numeric problems).•Now using the identity RBF and (still) exact interpolation, train a new network and fit the resultingcurve. What is the difference between using the different basis functions?•Making use of the k-means algorithm (Python:KMeans; Matlab:kmeans) generate different centresand train a network with both the Gaussian and identity RBF (the pseudoinverse can be calculated inMatlab and Python usingpinv). Experiment with different numbers of centres and think about thevalue you use forσ.•Finally try different RBFs (i.e. multiquadratic, inverse quadratic) andcompare the resulting output."
   ]
  },
  {
   "cell_type": "code",
   "execution_count": null,
   "metadata": {
    "pycharm": {
     "name": "#%%\n"
    }
   },
   "outputs": [],
   "source": [
    "import numpy as np\n",
    "import matplotlib as plt"
   ]
  },
  {
   "cell_type": "code",
   "execution_count": null,
   "metadata": {
    "pycharm": {
     "name": "#%%\n"
    }
   },
   "outputs": [],
   "source": [
    "def f(t):\n",
    "    return 0.4 * np.sin(2*np.pi*t) +0.5\n",
    "\n",
    "from sklearn.datasets.samples_generator import make_blobs\n",
    "X, y_true = make_blobs(n_samples=100, centers=1,\n",
    "                       cluster_std=5, random_state=0,center_box=(1,100))\n",
    "plt.scatter(X[:, 0], X[:, 1], s=50);\n"
   ]
  }
 ],
 "metadata": {
  "kernelspec": {
   "display_name": "Python 3",
   "language": "python",
   "name": "python3"
  },
  "language_info": {
   "codemirror_mode": {
    "name": "ipython",
    "version": 3
   },
   "file_extension": ".py",
   "mimetype": "text/x-python",
   "name": "python",
   "nbconvert_exporter": "python",
   "pygments_lexer": "ipython3",
   "version": "3.8.1"
  },
  "pycharm": {
   "stem_cell": {
    "cell_type": "raw",
    "metadata": {
     "collapsed": false
    },
    "source": []
   }
  }
 },
 "nbformat": 4,
 "nbformat_minor": 1
}
