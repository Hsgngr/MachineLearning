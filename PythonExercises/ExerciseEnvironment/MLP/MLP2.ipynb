{
 "cells": [
  {
   "cell_type": "code",
   "execution_count": 92,
   "metadata": {
    "collapsed": true,
    "pycharm": {
     "is_executing": false
    }
   },
   "outputs": [],
   "source": [
    "#This time I'm trying to implement MLP with loops and matrices\n",
    "import math\n",
    "import numpy as np\n",
    "\n",
    "learning_rate = 0.1\n",
    "#Input\n",
    "X = [0.,1.]\n",
    "#Target\n",
    "y = [1.,0.]\n",
    "\n",
    "#Initial Weights\n",
    "# v=[[-1,0],[0,1]]\n",
    "# w=[[1,-1],[0,1]]\n",
    "v = np.array([[-1.,0.],[0.,1.]])\n",
    "w = np.array([[1.,-1.],[0.,1.]])\n",
    "\n",
    "bias1=1 \n",
    "bias2=1\n",
    "\n",
    "#Sigmoid function for activation function:\n",
    "def g(x):\n",
    "    # return 1 / (1 + math.exp(-x))\n",
    "    return x"
   ]
  },
  {
   "cell_type": "code",
   "execution_count": 93,
   "outputs": [],
   "source": [
    "u = np.array([[0.,0.],[0.,0.]])\n",
    "\n",
    "for i in range(X.__len__()):\n",
    "    for j in range(len(v[0])):\n",
    "        u[i][j] = (X[i] * v[i][j])\n",
    "#Decreasin the dimesions of the matrix from 2x2 to 1x2 by summing the rows in a single row.\n",
    "u = u.sum(axis=0)\n",
    "#Add biases\n",
    "for i in range(u.size):\n",
    "    u[i] = u[i] + 1\n",
    "#Activation Function\n",
    "z= u.copy()\n",
    "for i in range(u.size):\n",
    "    z[i] = g(u[i])\n"
   ],
   "metadata": {
    "collapsed": false,
    "pycharm": {
     "name": "#%%\n",
     "is_executing": false
    }
   }
  },
  {
   "cell_type": "code",
   "execution_count": 94,
   "outputs": [
    {
     "data": {
      "text/plain": "array([2., 2.])"
     },
     "metadata": {},
     "output_type": "execute_result",
     "execution_count": 94
    }
   ],
   "source": [
    "#Second Layer of MLP\n",
    "a= np.array([[0.,0.],[0.,0.]])\n",
    "\n",
    "for i in range(z.__len__()):\n",
    "    for j in range(len(w[0])):\n",
    "        a[i][j] = (z[i] * w[i][j])\n",
    "        \n",
    "#Decreasin the dimesions of the matrix from 2x2 to 1x2 by summing the rows in a single row.\n",
    "a = a.sum(axis=0)\n",
    "\n",
    "#Add biases\n",
    "for i in range(a.size):\n",
    "    a[i] = a[i] + 1\n",
    "    \n",
    "#Activation Function\n",
    "yNew = a.copy()\n",
    "for i in range(a.size):\n",
    "    yNew[i] = g(a[i])\n",
    "\n",
    "yNew"
   ],
   "metadata": {
    "collapsed": false,
    "pycharm": {
     "name": "#%%\n",
     "is_executing": false
    }
   }
  },
  {
   "cell_type": "code",
   "execution_count": 95,
   "outputs": [
    {
     "data": {
      "text/plain": "array([-1.,  2.])"
     },
     "metadata": {},
     "output_type": "execute_result",
     "execution_count": 95
    }
   ],
   "source": [
    "#BackPass\n",
    "Delta = np.zeros((1,y.__len__()), dtype=float)\n",
    "for s in range(Delta.shape[1]): \n",
    "    Delta[0][s] = -(y[s] - yNew[s])\n",
    "    \n",
    "#I need to take only first element of Delta thats why I'm doing this. It ia an issue in numpy.\n",
    "#Delta = [1, 2]\n",
    "Delta = Delta[0]\n",
    "\n",
    "Delta2 = np.zeros(w.shape, dtype=float)\n",
    "\n",
    "for i in range(len(Delta)):\n",
    "    for j in range(len(w[0])):\n",
    "        Delta2[i][j] = (Delta[i] * w[j][i])\n",
    "        \n",
    "Delta2= Delta2.sum(axis=0)\n",
    "Delta2"
   ],
   "metadata": {
    "collapsed": false,
    "pycharm": {
     "name": "#%%\n",
     "is_executing": false
    }
   }
  },
  {
   "cell_type": "code",
   "execution_count": 100,
   "outputs": [],
   "source": [
    "#Recalculating Weights:\n",
    "tempv = v.copy()\n",
    "tempw = w.copy()\n",
    "\n",
    "X = np.asarray(X)\n",
    "\n",
    "for i in range(v.shape[0]):\n",
    "    for j in  range(v.shape[1]):\n",
    "        # print('v{x}{y}: {val}'.format(x=i+1,y=j+1, val= tempv[i][j]), end= '')\n",
    "        \n",
    "        tempv[i][j] = tempv[i][j] - (learning_rate * Delta2[i] * X[j])\n",
    "        \n",
    "        # print('| v{x}{y}: {val}'.format(x=i+1,y=j+1, val= tempv[i][j]))\n",
    "\n",
    "for i in range(w.shape[0]):\n",
    "    for j in  range(w.shape[1]):\n",
    "        # print('w{x}{y}: {val}'.format(x=i+1,y=j+1, val= tempw[i][j]), end= '')\n",
    "        \n",
    "        tempw[i][j] = tempw[i][j] - (learning_rate * Delta[i] * z[j])\n",
    "        \n",
    "        # print('| w{x}{y}: {val}'.format(x=i+1,y=j+1, val= tempw[i][j]))\n",
    "\n",
    "v=tempv\n",
    "w=tempw"
   ],
   "metadata": {
    "collapsed": false,
    "pycharm": {
     "name": "#%%\n",
     "is_executing": false
    }
   }
  },
  {
   "cell_type": "code",
   "execution_count": 102,
   "outputs": [
    {
     "name": "stdout",
     "text": [
      "[0.  0.8]\n"
     ],
     "output_type": "stream"
    },
    {
     "data": {
      "text/plain": "array([1. , 1.8])"
     },
     "metadata": {},
     "output_type": "execute_result",
     "execution_count": 102
    }
   ],
   "source": [
    "#Redo the forward Propogation:\n",
    "u = np.array([[0.,0.],[0.,0.]])\n",
    "\n",
    "for i in range(X.__len__()):\n",
    "    for j in range(len(v[0])):\n",
    "        u[i][j] = (X[i] * v[i][j])\n",
    "#Decreasin the dimesions of the matrix from 2x2 to 1x2 by summing the rows in a single row.\n",
    "u = u.sum(axis=0)\n",
    "print(u)\n",
    "#Add biases\n",
    "for i in range(u.size):\n",
    "    u[i] = u[i] + 1\n",
    "#Activation Function\n",
    "z= u.copy()\n",
    "for i in range(u.size):\n",
    "    z[i] = g(u[i])\n",
    "z"
   ],
   "metadata": {
    "collapsed": false,
    "pycharm": {
     "name": "#%%\n",
     "is_executing": false
    }
   }
  },
  {
   "cell_type": "code",
   "execution_count": null,
   "outputs": [],
   "source": [
    "\n"
   ],
   "metadata": {
    "collapsed": false,
    "pycharm": {
     "name": "#%%\n"
    }
   }
  }
 ],
 "metadata": {
  "kernelspec": {
   "display_name": "Python 3",
   "language": "python",
   "name": "python3"
  },
  "language_info": {
   "codemirror_mode": {
    "name": "ipython",
    "version": 2
   },
   "file_extension": ".py",
   "mimetype": "text/x-python",
   "name": "python",
   "nbconvert_exporter": "python",
   "pygments_lexer": "ipython2",
   "version": "2.7.6"
  },
  "pycharm": {
   "stem_cell": {
    "cell_type": "raw",
    "source": [],
    "metadata": {
     "collapsed": false
    }
   }
  }
 },
 "nbformat": 4,
 "nbformat_minor": 0
}