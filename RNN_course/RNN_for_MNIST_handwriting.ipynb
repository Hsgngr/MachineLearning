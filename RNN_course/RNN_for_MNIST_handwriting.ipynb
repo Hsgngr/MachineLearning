{
  "nbformat": 4,
  "nbformat_minor": 0,
  "metadata": {
    "colab": {
      "name": "RNN_for_MNIST_handwriting.ipynb",
      "provenance": []
    },
    "kernelspec": {
      "name": "python3",
      "display_name": "Python 3"
    }
  },
  "cells": [
    {
      "cell_type": "code",
      "metadata": {
        "id": "ocnPDyXxNOcW"
      },
      "source": [
        "#Install Tensorflow\n",
        "import tensorflow as tf\n",
        "\n",
        "from tensorflow.keras.layers import Input,Dense,SimpleRNN, GRU,LSTM, Dense, Flatten\n",
        "from tensorflow.keras.models import Model\n",
        "from tensorflow.keras.optimizers import SGD,Adam\n",
        "\n",
        "import numpy as np\n",
        "import pandas as pd\n",
        "import matplotlib.pyplot as plt"
      ],
      "execution_count": 1,
      "outputs": []
    },
    {
      "cell_type": "code",
      "metadata": {
        "id": "a7-unpDtNd_9",
        "outputId": "7c48c620-9902-4547-8a51-540552cf4876",
        "colab": {
          "base_uri": "https://localhost:8080/"
        }
      },
      "source": [
        "mnist = tf.keras.datasets.mnist\n",
        "\n",
        "(x_train, y_train), (x_test,y_test) = mnist.load_data()\n",
        "x_train, x_test = x_train / 255.0, x_test / 255.0\n",
        "print(\"x_train.shape: \", x_train.shape)\n",
        "print(\"x_test.shape: \", x_test.shape)"
      ],
      "execution_count": 3,
      "outputs": [
        {
          "output_type": "stream",
          "text": [
            "x_train.shape:  (60000, 28, 28)\n",
            "x_test.shape:  (10000, 28, 28)\n"
          ],
          "name": "stdout"
        }
      ]
    },
    {
      "cell_type": "code",
      "metadata": {
        "id": "yVxmvXidNzyM"
      },
      "source": [
        "#Build the model:\n",
        "i =Input(shape= x_train[0].shape)\n",
        "x = LSTM(128)(i)\n",
        "x = Dense(10, activation= 'softmax')(x)\n",
        "\n",
        "model = Model(i,x)"
      ],
      "execution_count": 7,
      "outputs": []
    },
    {
      "cell_type": "code",
      "metadata": {
        "id": "p9sZkln4OcHQ",
        "outputId": "e3acfef7-32cb-4ed6-c09c-ce4beabe3095",
        "colab": {
          "base_uri": "https://localhost:8080/"
        }
      },
      "source": [
        "#Compile and train\n",
        "model.compile(optimizer= 'adam', loss ='sparse_categorical_crossentropy', metrics=['accuracy'])\n",
        "r = model.fit(x_train,y_train, validation_data=(x_test,y_test), epochs=10)"
      ],
      "execution_count": 8,
      "outputs": [
        {
          "output_type": "stream",
          "text": [
            "Epoch 1/10\n",
            "1875/1875 [==============================] - 55s 29ms/step - loss: 0.3480 - accuracy: 0.8887 - val_loss: 0.1321 - val_accuracy: 0.9614\n",
            "Epoch 2/10\n",
            "1875/1875 [==============================] - 54s 29ms/step - loss: 0.1100 - accuracy: 0.9676 - val_loss: 0.0960 - val_accuracy: 0.9709\n",
            "Epoch 3/10\n",
            "1875/1875 [==============================] - 55s 29ms/step - loss: 0.0759 - accuracy: 0.9776 - val_loss: 0.0657 - val_accuracy: 0.9786\n",
            "Epoch 4/10\n",
            "1875/1875 [==============================] - 54s 29ms/step - loss: 0.0584 - accuracy: 0.9824 - val_loss: 0.0610 - val_accuracy: 0.9811\n",
            "Epoch 5/10\n",
            "1875/1875 [==============================] - 54s 29ms/step - loss: 0.0476 - accuracy: 0.9852 - val_loss: 0.0537 - val_accuracy: 0.9833\n",
            "Epoch 6/10\n",
            "1875/1875 [==============================] - 54s 29ms/step - loss: 0.0377 - accuracy: 0.9886 - val_loss: 0.0513 - val_accuracy: 0.9841\n",
            "Epoch 7/10\n",
            "1875/1875 [==============================] - 54s 29ms/step - loss: 0.0329 - accuracy: 0.9897 - val_loss: 0.0473 - val_accuracy: 0.9858\n",
            "Epoch 8/10\n",
            "1875/1875 [==============================] - 54s 29ms/step - loss: 0.0271 - accuracy: 0.9916 - val_loss: 0.0518 - val_accuracy: 0.9850\n",
            "Epoch 9/10\n",
            "1875/1875 [==============================] - 54s 29ms/step - loss: 0.0242 - accuracy: 0.9923 - val_loss: 0.0469 - val_accuracy: 0.9868\n",
            "Epoch 10/10\n",
            "1875/1875 [==============================] - 54s 29ms/step - loss: 0.0213 - accuracy: 0.9932 - val_loss: 0.0425 - val_accuracy: 0.9879\n"
          ],
          "name": "stdout"
        }
      ]
    },
    {
      "cell_type": "code",
      "metadata": {
        "id": "RstZZu8JRoHs",
        "outputId": "66d226f5-602c-4df4-e77d-9d8419f62c1d",
        "colab": {
          "base_uri": "https://localhost:8080/",
          "height": 282
        }
      },
      "source": [
        "#Plot loss per iteration\n",
        "plt.plot(r.history['loss'], label= 'loss')\n",
        "plt.plot(r.history['val_loss'], label= 'validation_loss')\n",
        "plt.legend()"
      ],
      "execution_count": 9,
      "outputs": [
        {
          "output_type": "execute_result",
          "data": {
            "text/plain": [
              "<matplotlib.legend.Legend at 0x7f11efdfa550>"
            ]
          },
          "metadata": {
            "tags": []
          },
          "execution_count": 9
        },
        {
          "output_type": "display_data",
          "data": {
            "image/png": "[encoded data removed]",
            "text/plain": [
              "<Figure size 432x288 with 1 Axes>"
            ]
          },
          "metadata": {
            "tags": [],
            "needs_background": "light"
          }
        }
      ]
    },
    {
      "cell_type": "code",
      "metadata": {
        "id": "bVf7is-4SGk7",
        "outputId": "c6c61868-9bc4-4dd4-844d-1c6b70da13f8",
        "colab": {
          "base_uri": "https://localhost:8080/",
          "height": 282
        }
      },
      "source": [
        "#Plot accuracy per iteration\n",
        "plt.plot(r.history['accuracy'], label= 'accuracy')\n",
        "plt.plot(r.history['val_accuracy'], label= 'validation_accuracy')\n",
        "plt.legend()"
      ],
      "execution_count": 10,
      "outputs": [
        {
          "output_type": "execute_result",
          "data": {
            "text/plain": [
              "<matplotlib.legend.Legend at 0x7f11efdecda0>"
            ]
          },
          "metadata": {
            "tags": []
          },
          "execution_count": 10
        },
        {
          "output_type": "display_data",
          "data": {
            "image/png": "[encoded data removed]",
            "text/plain": [
              "<Figure size 432x288 with 1 Axes>"
            ]
          },
          "metadata": {
            "tags": [],
            "needs_background": "light"
          }
        }
      ]
    },
    {
      "cell_type": "code",
      "metadata": {
        "id": "JWTI9EFnSUcV"
      },
      "source": [
        "#Plot confusion matrix\n",
        "from sklearn.metrics import confusion_matrix\n",
        "import itertools\n",
        "\n",
        "def plot_confusion_matrix(cm,classes, normalize = False, title='Confusion Matrix', cmap= plt.cm.Blues):\n",
        "  \"\"\"\n",
        "  This function prints and plots the confusion matrix. Normalization can be applied by setting 'normalization = True'\n",
        "  \"\"\"\n",
        "  if normalize:\n",
        "    cm = cm.astype('float') / cm.sum(axis =1)[:, np.newaxis]\n",
        "    print('Normalized confusion matrix')\n",
        "  else:\n",
        "    print('Confusion Matrix, without normalization')\n",
        "  print(cm)\n",
        "\n",
        "  plt.imshow(cm, interpolation='nearest', cmap=cmap)\n",
        "  plt.title(title)\n",
        "  plt.colorbar()\n",
        "  tick_marks = np.arange(len(classes))\n",
        "  plt.xticks(tick_marks, classes, rotation=45)\n",
        "  plt.yticks(tick_marks, classes)\n",
        "\n",
        "  fmt = '.2f' if normalize else 'd'\n",
        "  thresh = cm.max() /2.\n",
        "  for i,j in itertools.product(range(cm.shape[0]), range(cm.shape[1])):\n",
        "    plt.text(j,i,  format(cm[i,j],fmt), horizontalalignment = 'center', color = 'white' if cm[i,j] > thresh else 'black')\n",
        "  \n",
        "  plt.tight_layout()\n",
        "  plt.ylabel=('True Label')\n",
        "  plt.xlabel=('Predicted Label')\n",
        "  plt.show()\n",
        "\n"
      ],
      "execution_count": 15,
      "outputs": []
    },
    {
      "cell_type": "code",
      "metadata": {
        "id": "9lQhkCQhd4ty",
        "outputId": "25167f4e-e7a6-4f27-dbe2-712af97f5e5c",
        "colab": {
          "base_uri": "https://localhost:8080/",
          "height": 484
        }
      },
      "source": [
        "p_test = model.predict(x_test).argmax(axis=1)\n",
        "cm = confusion_matrix(y_test, p_test)\n",
        "plot_confusion_matrix(cm,list(range(10)))\n",
        "\n"
      ],
      "execution_count": 16,
      "outputs": [
        {
          "output_type": "stream",
          "text": [
            "Confusion Matrix, without normalization\n",
            "[[ 975    0    0    0    1    0    1    1    1    1]\n",
            " [   0 1132    1    0    0    0    2    0    0    0]\n",
            " [   3    2 1021    0    3    0    2    1    0    0]\n",
            " [   0    0   10  985    0    4    0    6    3    2]\n",
            " [   1    0    1    0  972    0    2    1    1    4]\n",
            " [   1    0    0    4    0  881    1    1    0    4]\n",
            " [   3    4    0    0    1    2  948    0    0    0]\n",
            " [   1    5   11    0    4    0    0 1004    0    3]\n",
            " [   0    0    2    3    2    3    0    2  961    1]\n",
            " [   2    0    0    0    3    1    0    2    1 1000]]\n"
          ],
          "name": "stdout"
        },
        {
          "output_type": "display_data",
          "data": {
            "image/png": "[encoded data removed]",
            "text/plain": [
              "<Figure size 432x288 with 2 Axes>"
            ]
          },
          "metadata": {
            "tags": [],
            "needs_background": "light"
          }
        }
      ]
    },
    {
      "cell_type": "code",
      "metadata": {
        "id": "VSLYbdZAeKPt",
        "outputId": "d564d2d4-240e-4c8c-b498-9e741c31f8d0",
        "colab": {
          "base_uri": "https://localhost:8080/",
          "height": 281
        }
      },
      "source": [
        "###Show some misclassified examples\n",
        "#Create an array of misclassified examples\n",
        "misclassified_idx = np.where(p_test != y_test)[0]\n",
        "#Choose random from them\n",
        "i = np.random.choice(misclassified_idx)\n",
        "plt.imshow(x_test[i], cmap='gray')\n",
        "plt.title('True label: %s Predicted label: %s' % (y_test[i], p_test[i]));"
      ],
      "execution_count": 22,
      "outputs": [
        {
          "output_type": "display_data",
          "data": {
            "image/png": "[encoded data removed]",
            "text/plain": [
              "<Figure size 432x288 with 1 Axes>"
            ]
          },
          "metadata": {
            "tags": [],
            "needs_background": "light"
          }
        }
      ]
    },
    {
      "cell_type": "code",
      "metadata": {
        "id": "nBe8M911e2E8"
      },
      "source": [
        ""
      ],
      "execution_count": 21,
      "outputs": []
    }
  ]
}