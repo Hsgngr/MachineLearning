{
 "cells": [
  {
   "cell_type": "markdown",
   "metadata": {},
   "source": [
    "# AI4M Course 1 week 3 lecture notebook"
   ]
  },
  {
   "cell_type": "markdown",
   "metadata": {},
   "source": [
    "## U-Net model\n",
    "In this week's assignment, you'll be using a network architecture called \"U-Net\". The name of this network architecture comes from it's U-like shape when shown in a diagram like this (image from [U-net entry on wikipedia](https://en.wikipedia.org/wiki/U-Net)): \n",
    "\n",
    "<img src=\"U-net_example_wikipedia.png\" alt=\"U-net Image\" width=\"600\"/>\n",
    "\n",
    "U-nets are commonly used for image segmentation, which will be your task in the upcoming assignment. You won't actually need to implement U-Net in the assignment, but we wanted to give you an opportunity to gain some familiarity with this architecture here before you use it in the assignment. \n",
    "\n",
    "As you can see from the diagram, this architecture features a series of down-convolutions connected by max-pooling operations, followed by a series of up-convolutions connected by upsampling and concatenation operations. Each of the down-convolutions is also connected directly to the concatenation operations in the upsampling portion of the network. For more detail on the U-Net architecture, have a look at the original [U-Net paper by Ronneberger et al. 2015](https://arxiv.org/abs/1505.04597). \n",
    "\n",
    "In this lab, you'll create a basic U-Net using Keras. "
   ]
  },
  {
   "cell_type": "code",
   "execution_count": 7,
   "metadata": {},
   "outputs": [],
   "source": [
    "# Import the elements you'll need to build your U-Net\n",
    "import keras\n",
    "from tensorflow.keras import backend as K\n",
    "from keras.engine import Input, Model\n",
    "from keras.layers import Conv3D, MaxPooling3D, UpSampling3D, Activation, BatchNormalization, PReLU, Deconvolution3D\n",
    "from tensorflow.keras.optimizers import Adam\n",
    "from keras.layers.merge import concatenate\n",
    "# Set the image shape to have the channels in the first dimension\n",
    "K.set_image_data_format(\"channels_first\")"
   ]
  },
  {
   "cell_type": "markdown",
   "metadata": {},
   "source": [
    "### The \"depth\" of your U-Net\n",
    "The \"depth\" of your U-Net is equal to the number of down-convolutions you will use. In the image above, the depth is 4 because there are 4 down-convolutions running down the left side including the very bottom of the U.\n",
    "\n",
    "For this exercise, you'll use a U-Net depth of 2, meaning you'll have 2 down-convolutions in your network. "
   ]
  },
  {
   "cell_type": "markdown",
   "metadata": {},
   "source": [
    "### Input layer and its \"depth\"\n",
    "\n",
    "In this lab and in the assignment, you will be doing 3D image segmentation, which is to say that, in addition to \"height\" and \"width\", your input layer will also have a \"length\". We are deliberately using the word \"length\" instead of \"depth\" here to describe the third spatial dimension of the input so as not to confuse it with the depth of the network as defined above.\n",
    "\n",
    "The shape of the input layer is `(num_channels, height, width, length)`, where `num_channels` you can think of like color channels in an image, `height`, `width` and `length` are just the size of the input.\n",
    "\n",
    "For the assignment, the values will be:\n",
    "- num_channels: 4\n",
    "- height: 160\n",
    "- width: 160\n",
    "- length: 16"
   ]
  },
  {
   "cell_type": "code",
   "execution_count": 11,
   "metadata": {},
   "outputs": [],
   "source": [
    "#This part is only for working with Tensorflow in local JupyterNotebook.\n",
    "#Solution : https://stackoverflow.com/questions/60581677/attributeerror-module-tensorflow-core-api-v2-config-has-no-attribute-expe\n",
    "import tensorflow as tf\n",
    "import keras.backend.tensorflow_backend as tfback\n",
    "\n",
    "def _get_available_gpus():\n",
    "    \"\"\"Get a list of available gpu devices (formatted as strings).\n",
    "\n",
    "    # Returns\n",
    "        A list of available GPU devices.\n",
    "    \"\"\"\n",
    "    #global _LOCAL_DEVICES\n",
    "    if tfback._LOCAL_DEVICES is None:\n",
    "        devices = tf.config.list_logical_devices()\n",
    "        tfback._LOCAL_DEVICES = [x.name for x in devices]\n",
    "    return [x for x in tfback._LOCAL_DEVICES if 'device:gpu' in x.lower()]\n",
    "\n",
    "tfback._get_available_gpus = _get_available_gpus"
   ]
  },
  {
   "cell_type": "code",
   "execution_count": 12,
   "metadata": {},
   "outputs": [
    {
     "data": {
      "text/plain": [
       "<tf.Tensor 'input_3:0' shape=(None, 4, 160, 160, 16) dtype=float32>"
      ]
     },
     "execution_count": 12,
     "metadata": {},
     "output_type": "execute_result"
    }
   ],
   "source": [
    "# Define an input layer tensor of the shape you'll use in the assignment\n",
    "input_layer = Input(shape=(4, 160, 160, 16))\n",
    "input_layer"
   ]
  },
  {
   "cell_type": "markdown",
   "metadata": {},
   "source": [
    "Notice that the tensor shape has a '?' as the very first dimension.  This will be the batch size. So the dimensions of the tensor are: (batch_size, num_channels, height, width, length)"
   ]
  },
  {
   "cell_type": "markdown",
   "metadata": {},
   "source": [
    "## Contracting (downward) path \n",
    "Here you'll start by constructing the downward path in your network (the left side of the U-Net).  The `(height, width, length)` of the input gets smaller as you move down this path, and the number of channels increases.\n",
    "\n",
    "### Depth 0\n",
    "\n",
    "By \"depth 0\" here, we're referring to the depth of the first down-convolution in the U-net.\n",
    "\n",
    "The number of filters is specified for each depth and for each layer within that depth.\n",
    "\n",
    "The formula to use for calculating the number of filters is:\n",
    "$$filters_{i} = 32 \\times (2^{i})$$\n",
    "\n",
    "Where $i$ is the current depth.\n",
    "\n",
    "So at depth $i=0$:\n",
    "$$filters_{0} = 32 \\times (2^{0}) = 32$$\n",
    "\n",
    "### Layer 0\n",
    "There are two convolutional layers for each depth"
   ]
  },
  {
   "cell_type": "markdown",
   "metadata": {},
   "source": [
    "Run the next cell to create the first 3D convolution"
   ]
  },
  {
   "cell_type": "code",
   "execution_count": 14,
   "metadata": {},
   "outputs": [
    {
     "data": {
      "text/plain": [
       "<tf.Tensor 'conv3d_4/add:0' shape=(None, 32, 160, 160, 16) dtype=float32>"
      ]
     },
     "execution_count": 14,
     "metadata": {},
     "output_type": "execute_result"
    }
   ],
   "source": [
    "# Define a Conv3D tensor with 32 filters\n",
    "down_depth_0_layer_0 = Conv3D(filters=32, \n",
    "                              kernel_size=(3,3,3),\n",
    "                              padding='same',\n",
    "                              strides=(1,1,1)\n",
    "                              )(input_layer)\n",
    "down_depth_0_layer_0"
   ]
  },
  {
   "cell_type": "markdown",
   "metadata": {},
   "source": [
    "Notice that with 32 filters, the result you get above is a tensor with 32 channels.\n",
    "\n",
    "Run the next cell to add a relu activation to the first convolutional layer"
   ]
  },
  {
   "cell_type": "code",
   "execution_count": 15,
   "metadata": {},
   "outputs": [
    {
     "data": {
      "text/plain": [
       "<tf.Tensor 'activation_1/Relu:0' shape=(None, 32, 160, 160, 16) dtype=float32>"
      ]
     },
     "execution_count": 15,
     "metadata": {},
     "output_type": "execute_result"
    }
   ],
   "source": [
    "# Add a relu activation to layer 0 of depth 0\n",
    "down_depth_0_layer_0 = Activation('relu')(down_depth_0_layer_0)\n",
    "down_depth_0_layer_0"
   ]
  },
  {
   "cell_type": "markdown",
   "metadata": {},
   "source": [
    "### Depth 0, Layer 1\n",
    "For layer 1 of depth 0, the formula for calculating the number of filters is:\n",
    "$$filters_{i} = 32 \\times (2^{i}) \\times 2$$\n",
    "\n",
    "Where $i$ is the current depth. \n",
    "- Notice that the '$\\times~2$' at the end of this expression isn't there for layer 0.\n",
    "\n",
    "\n",
    "So at depth $i=0$ for layer 1:\n",
    "$$filters_{0} = 32 \\times (2^{0}) \\times 2 = 64$$\n"
   ]
  },
  {
   "cell_type": "code",
   "execution_count": 16,
   "metadata": {},
   "outputs": [
    {
     "data": {
      "text/plain": [
       "<tf.Tensor 'activation_2/Relu:0' shape=(None, 64, 160, 160, 16) dtype=float32>"
      ]
     },
     "execution_count": 16,
     "metadata": {},
     "output_type": "execute_result"
    }
   ],
   "source": [
    "# Create a Conv3D layer with 64 filters and add relu activation\n",
    "down_depth_0_layer_1 = Conv3D(filters=64, \n",
    "                kernel_size=(3,3,3),\n",
    "                padding='same',\n",
    "                strides=(1,1,1)\n",
    "               )(down_depth_0_layer_0)\n",
    "down_depth_0_layer_1 = Activation('relu')(down_depth_0_layer_1)\n",
    "down_depth_0_layer_1"
   ]
  },
  {
   "cell_type": "markdown",
   "metadata": {},
   "source": [
    "### Max pooling\n",
    "Within the U-Net architecture, there is a max pooling operation after each of the down-convolutions (not including the last down-convolution at the bottom of the U). In general, this means you'll add max pooling after each down-convolution up to (but not including) the `depth - 1` down-convolution (since you started counting at 0). \n",
    "\n",
    "For this lab exercise:\n",
    "- The overall depth of the U-Net you're constructing is 2\n",
    "- So the bottom of your U is at a depth index of: $2-1 = 1$.\n",
    "- So far you've only defined the $depth=0$ down-convolutions, so the next thing to do is add max pooling"
   ]
  },
  {
   "cell_type": "markdown",
   "metadata": {},
   "source": [
    "Run the next cell to add a max pooling operation to your U-Net"
   ]
  },
  {
   "cell_type": "code",
   "execution_count": 17,
   "metadata": {},
   "outputs": [
    {
     "data": {
      "text/plain": [
       "<tf.Tensor 'max_pooling3d_1/transpose_1:0' shape=(None, 64, 80, 80, 8) dtype=float32>"
      ]
     },
     "execution_count": 17,
     "metadata": {},
     "output_type": "execute_result"
    }
   ],
   "source": [
    "# Define a max pooling layer\n",
    "down_depth_0_layer_pool = MaxPooling3D(pool_size=(2,2,2))(down_depth_0_layer_1)\n",
    "down_depth_0_layer_pool"
   ]
  },
  {
   "cell_type": "markdown",
   "metadata": {},
   "source": [
    "### Depth 1, Layer 0\n",
    "\n",
    "At depth 1, layer 0, the formula for calculating the number of filters is:\n",
    "$$filters_{i} = 32 \\times (2^{i})$$\n",
    "\n",
    "Where $i$ is the current depth.\n",
    "\n",
    "So at depth $i=1$:\n",
    "$$filters_{1} = 32 \\times (2^{1}) = 64$$\n",
    "\n",
    "Run the next cell to add a Conv3D layer to your network with relu activation"
   ]
  },
  {
   "cell_type": "code",
   "execution_count": 18,
   "metadata": {},
   "outputs": [
    {
     "data": {
      "text/plain": [
       "<tf.Tensor 'activation_3/Relu:0' shape=(None, 64, 80, 80, 8) dtype=float32>"
      ]
     },
     "execution_count": 18,
     "metadata": {},
     "output_type": "execute_result"
    }
   ],
   "source": [
    "# Add a Conv3D layer to your network with relu activation\n",
    "down_depth_1_layer_0 = Conv3D(filters=64, \n",
    "                kernel_size=(3,3,3),\n",
    "                padding='same',\n",
    "                strides=(1,1,1)\n",
    "               )(down_depth_0_layer_pool)\n",
    "down_depth_1_layer_0 = Activation('relu')(down_depth_1_layer_0)\n",
    "down_depth_1_layer_0"
   ]
  },
  {
   "cell_type": "markdown",
   "metadata": {},
   "source": [
    "### Depth 1,  Layer 1\n",
    "\n",
    "For layer 1 of depth 1 the formula you'll use for number of filters is:\n",
    "$$filters_{i} = 32 \\times (2^{i}) \\times 2$$\n",
    "\n",
    "Where $i$ is the current depth. \n",
    "- Notice that the '$\\times 2$' at the end of this expression isn't there for layer 0.\n",
    "\n",
    "So at depth $i=1$:\n",
    "$$filters_{0} = 32 \\times (2^{1}) \\times 2 = 128$$\n",
    "\n",
    "Run the next cell to add another Conv3D with 128 filters to your network."
   ]
  },
  {
   "cell_type": "code",
   "execution_count": 19,
   "metadata": {},
   "outputs": [
    {
     "data": {
      "text/plain": [
       "<tf.Tensor 'activation_4/Relu:0' shape=(None, 128, 80, 80, 8) dtype=float32>"
      ]
     },
     "execution_count": 19,
     "metadata": {},
     "output_type": "execute_result"
    }
   ],
   "source": [
    "# Add another Conv3D with 128 filters to your network.\n",
    "down_depth_1_layer_1 = Conv3D(filters=128, \n",
    "                kernel_size=(3,3,3),\n",
    "                padding='same',\n",
    "                strides=(1,1,1)\n",
    "               )(down_depth_1_layer_0)\n",
    "down_depth_1_layer_1 = Activation('relu')(down_depth_1_layer_1)\n",
    "down_depth_1_layer_1"
   ]
  },
  {
   "cell_type": "markdown",
   "metadata": {},
   "source": [
    "### No max pooling at depth 1 (the bottom of the U)\n",
    "\n",
    "When you get to the \"bottom\" of the U-net, you don't need to apply max pooling after the convolutions."
   ]
  },
  {
   "cell_type": "markdown",
   "metadata": {},
   "source": [
    "## Expanding  (upward) Path\n",
    "\n",
    "Now you'll work on the expanding path of the U-Net, (going up on the right side, when viewing the diagram).  The image's (height, width, length) all get larger in the expanding path.\n",
    "\n",
    "### Depth 0, Up sampling layer 0\n",
    "\n",
    "You'll use a pool size of (2,2,2) for upsampling.\n",
    "- This is the default value for [tf.keras.layers.UpSampling3D](https://www.tensorflow.org/api_docs/python/tf/keras/layers/UpSampling3D)\n",
    "- As input to the upsampling at depth 1, you'll use the last layer of the downsampling.  In this case, it's the depth 1 layer 1.\n",
    "\n",
    "Run the next cell to add an upsampling operation to your network. \n",
    "Note that you're not adding any activation to this upsampling layer."
   ]
  },
  {
   "cell_type": "code",
   "execution_count": 20,
   "metadata": {},
   "outputs": [
    {
     "data": {
      "text/plain": [
       "<tf.Tensor 'up_sampling3d_1/concat_2:0' shape=(None, 128, 160, 160, 16) dtype=float32>"
      ]
     },
     "execution_count": 20,
     "metadata": {},
     "output_type": "execute_result"
    }
   ],
   "source": [
    "# Add an upsampling operation to your network\n",
    "up_depth_0_layer_0 = UpSampling3D(size=(2,2,2))(down_depth_1_layer_1)\n",
    "up_depth_0_layer_0"
   ]
  },
  {
   "cell_type": "markdown",
   "metadata": {},
   "source": [
    "### Concatenate upsampled depth 0 with downsampled depth 0\n",
    "\n",
    "Now you'll apply a concatenation operation using the layers that are both at the same depth of 0.\n",
    "- up_depth_0_layer_0: shape is (?, 128, 160, 160, 16)\n",
    "- depth_0_layer_1: shape is (?, 64, 160, 160, 16)\n",
    "\n",
    "- Double check that both of these layers have the same height, width and length.\n",
    "- If they're the same, then they can be concatenated along axis 1 (the channel axis).\n",
    "- The (height, width, length) is (160, 160, 16) for both.\n",
    "\n",
    "Run the next cell to check that the layers you wish to concatenate have the same height, width and length."
   ]
  },
  {
   "cell_type": "code",
   "execution_count": 21,
   "metadata": {},
   "outputs": [
    {
     "name": "stdout",
     "output_type": "stream",
     "text": [
      "Tensor(\"up_sampling3d_1/concat_2:0\", shape=(None, 128, 160, 160, 16), dtype=float32)\n",
      "\n",
      "Tensor(\"activation_2/Relu:0\", shape=(None, 64, 160, 160, 16), dtype=float32)\n"
     ]
    }
   ],
   "source": [
    "# Print the shape of layers to concatenate\n",
    "print(up_depth_0_layer_0)\n",
    "print()\n",
    "print(down_depth_0_layer_1)"
   ]
  },
  {
   "cell_type": "markdown",
   "metadata": {},
   "source": [
    "Run the next cell to add a concatenation operation to your network"
   ]
  },
  {
   "cell_type": "code",
   "execution_count": 22,
   "metadata": {},
   "outputs": [
    {
     "data": {
      "text/plain": [
       "<tf.Tensor 'concatenate_1/concat:0' shape=(None, 192, 160, 160, 16) dtype=float32>"
      ]
     },
     "execution_count": 22,
     "metadata": {},
     "output_type": "execute_result"
    }
   ],
   "source": [
    "# Add a concatenation along axis 1\n",
    "up_depth_1_concat = concatenate([up_depth_0_layer_0,\n",
    "                                 down_depth_0_layer_1],\n",
    "                                axis=1)\n",
    "up_depth_1_concat"
   ]
  },
  {
   "cell_type": "markdown",
   "metadata": {},
   "source": [
    "Notice that the upsampling layer had 128 channels, and the down-convolution layer had 64 channels so that when concatenated, the result has 128 + 64 = 192 channels."
   ]
  },
  {
   "cell_type": "markdown",
   "metadata": {},
   "source": [
    "### Up-convolution layer 1\n",
    "\n",
    "The number of filters for this layer will be set to the number of channels in the down-convolution's layer 1 at the same depth of 0 (down_depth_0_layer_1).\n",
    "\n",
    "Run the next cell to have a look at the shape of the down-convolution depth 0 layer 1"
   ]
  },
  {
   "cell_type": "code",
   "execution_count": 23,
   "metadata": {},
   "outputs": [
    {
     "data": {
      "text/plain": [
       "<tf.Tensor 'activation_2/Relu:0' shape=(None, 64, 160, 160, 16) dtype=float32>"
      ]
     },
     "execution_count": 23,
     "metadata": {},
     "output_type": "execute_result"
    }
   ],
   "source": [
    "down_depth_0_layer_1"
   ]
  },
  {
   "cell_type": "markdown",
   "metadata": {},
   "source": [
    "Notice the number of channels for `depth_0_layer_1` is 64"
   ]
  },
  {
   "cell_type": "code",
   "execution_count": 24,
   "metadata": {},
   "outputs": [
    {
     "name": "stdout",
     "output_type": "stream",
     "text": [
      "number of filters: 64\n"
     ]
    }
   ],
   "source": [
    "print(f\"number of filters: {down_depth_0_layer_1._keras_shape[1]}\")"
   ]
  },
  {
   "cell_type": "code",
   "execution_count": 25,
   "metadata": {},
   "outputs": [
    {
     "data": {
      "text/plain": [
       "<tf.Tensor 'activation_5/Relu:0' shape=(None, 64, 160, 160, 16) dtype=float32>"
      ]
     },
     "execution_count": 25,
     "metadata": {},
     "output_type": "execute_result"
    }
   ],
   "source": [
    "# Add a Conv3D up-convolution with 64 filters to your network\n",
    "up_depth_1_layer_1 = Conv3D(filters=64, \n",
    "                            kernel_size=(3,3,3),\n",
    "                            padding='same',\n",
    "                            strides=(1,1,1)\n",
    "                           )(up_depth_1_concat)\n",
    "up_depth_1_layer_1 = Activation('relu')(up_depth_1_layer_1)\n",
    "up_depth_1_layer_1"
   ]
  },
  {
   "cell_type": "markdown",
   "metadata": {},
   "source": [
    "### Up-convolution depth 0, layer 2\n",
    "\n",
    "At layer 2 of depth 0 in the up-convolution the next step will be to add another up-convolution. The number of filters you'll want to use for this next up-convolution will need to be equal to the number of filters in the down-convolution depth 0 layer 1.\n",
    "\n",
    "Run the next cell to remind yourself of the number of filters in down-convolution depth 0 layer 1."
   ]
  },
  {
   "cell_type": "code",
   "execution_count": 26,
   "metadata": {},
   "outputs": [
    {
     "name": "stdout",
     "output_type": "stream",
     "text": [
      "Tensor(\"activation_2/Relu:0\", shape=(None, 64, 160, 160, 16), dtype=float32)\n",
      "number of filters: 64\n"
     ]
    }
   ],
   "source": [
    "print(down_depth_0_layer_1)\n",
    "print(f\"number of filters: {down_depth_0_layer_1._keras_shape[1]}\")"
   ]
  },
  {
   "cell_type": "markdown",
   "metadata": {},
   "source": [
    "As you can see, the number of channels / filters in `down_depth_0_layer_1` is 64."
   ]
  },
  {
   "cell_type": "markdown",
   "metadata": {},
   "source": [
    "Run the next cell to add a Conv3D up-convolution with 64 filters to your network."
   ]
  },
  {
   "cell_type": "code",
   "execution_count": 27,
   "metadata": {},
   "outputs": [
    {
     "data": {
      "text/plain": [
       "<tf.Tensor 'activation_6/Relu:0' shape=(None, 64, 160, 160, 16) dtype=float32>"
      ]
     },
     "execution_count": 27,
     "metadata": {},
     "output_type": "execute_result"
    }
   ],
   "source": [
    "# Add a Conv3D up-convolution with 64 filters to your network\n",
    "up_depth_1_layer_2 = Conv3D(filters=64, \n",
    "                            kernel_size=(3,3,3),\n",
    "                            padding='same',\n",
    "                            strides=(1,1,1)\n",
    "                           )(up_depth_1_layer_1)\n",
    "up_depth_1_layer_2 = Activation('relu')(up_depth_1_layer_2)\n",
    "up_depth_1_layer_2"
   ]
  },
  {
   "cell_type": "markdown",
   "metadata": {},
   "source": [
    "### Final Convolution\n",
    "\n",
    "For the final convolution, you will set the number of filters to be equal to the number of classes in your input data.\n",
    "\n",
    "In the assignment, you will be using data with 3 classes, namely:\n",
    "\n",
    "- 1: edema\n",
    "- 2: non-enhancing tumor \n",
    "- 3: enhancing tumor\n",
    "\n",
    "Run the next cell to add a final Conv3D with 3 filters to your network."
   ]
  },
  {
   "cell_type": "code",
   "execution_count": 28,
   "metadata": {},
   "outputs": [
    {
     "data": {
      "text/plain": [
       "<tf.Tensor 'conv3d_10/add:0' shape=(None, 3, 160, 160, 16) dtype=float32>"
      ]
     },
     "execution_count": 28,
     "metadata": {},
     "output_type": "execute_result"
    }
   ],
   "source": [
    "# Add a final Conv3D with 3 filters to your network.\n",
    "final_conv = Conv3D(filters=3, #3 categories \n",
    "                    kernel_size=(1,1,1),\n",
    "                    padding='valid',\n",
    "                    strides=(1,1,1)\n",
    "                    )(up_depth_1_layer_2)\n",
    "final_conv"
   ]
  },
  {
   "cell_type": "markdown",
   "metadata": {},
   "source": [
    "### Activation for final convolution\n",
    "\n",
    "Run the next cell to add a sigmoid activation to your final convolution."
   ]
  },
  {
   "cell_type": "code",
   "execution_count": 29,
   "metadata": {},
   "outputs": [
    {
     "data": {
      "text/plain": [
       "<tf.Tensor 'activation_7/Sigmoid:0' shape=(None, 3, 160, 160, 16) dtype=float32>"
      ]
     },
     "execution_count": 29,
     "metadata": {},
     "output_type": "execute_result"
    }
   ],
   "source": [
    "# Add a sigmoid activation to your final convolution.\n",
    "final_activation = Activation('sigmoid')(final_conv)\n",
    "final_activation"
   ]
  },
  {
   "cell_type": "markdown",
   "metadata": {},
   "source": [
    "### Create and compile the model\n",
    "\n",
    "In this example, you will be setting the loss and metrics to options that are pre-built in Keras.  However, in the assignment, you will implement better loss functions and metrics for evaluating the model's performance.\n",
    "\n",
    "Run the next cell to define and compile your model based on the architecture you created above."
   ]
  },
  {
   "cell_type": "code",
   "execution_count": 30,
   "metadata": {},
   "outputs": [],
   "source": [
    "# Define and compile your model\n",
    "model = Model(inputs=input_layer, outputs=final_activation)\n",
    "model.compile(optimizer=Adam(lr=0.00001),\n",
    "              loss='categorical_crossentropy',\n",
    "              metrics=['categorical_accuracy']\n",
    "             )"
   ]
  },
  {
   "cell_type": "code",
   "execution_count": 31,
   "metadata": {
    "scrolled": true
   },
   "outputs": [
    {
     "name": "stdout",
     "output_type": "stream",
     "text": [
      "Model: \"model_1\"\n",
      "__________________________________________________________________________________________________\n",
      "Layer (type)                    Output Shape         Param #     Connected to                     \n",
      "==================================================================================================\n",
      "input_3 (InputLayer)            (None, 4, 160, 160,  0                                            \n",
      "__________________________________________________________________________________________________\n",
      "conv3d_4 (Conv3D)               (None, 32, 160, 160, 3488        input_3[0][0]                    \n",
      "__________________________________________________________________________________________________\n",
      "activation_1 (Activation)       (None, 32, 160, 160, 0           conv3d_4[0][0]                   \n",
      "__________________________________________________________________________________________________\n",
      "conv3d_5 (Conv3D)               (None, 64, 160, 160, 55360       activation_1[0][0]               \n",
      "__________________________________________________________________________________________________\n",
      "activation_2 (Activation)       (None, 64, 160, 160, 0           conv3d_5[0][0]                   \n",
      "__________________________________________________________________________________________________\n",
      "max_pooling3d_1 (MaxPooling3D)  (None, 64, 80, 80, 8 0           activation_2[0][0]               \n",
      "__________________________________________________________________________________________________\n",
      "conv3d_6 (Conv3D)               (None, 64, 80, 80, 8 110656      max_pooling3d_1[0][0]            \n",
      "__________________________________________________________________________________________________\n",
      "activation_3 (Activation)       (None, 64, 80, 80, 8 0           conv3d_6[0][0]                   \n",
      "__________________________________________________________________________________________________\n",
      "conv3d_7 (Conv3D)               (None, 128, 80, 80,  221312      activation_3[0][0]               \n",
      "__________________________________________________________________________________________________\n",
      "activation_4 (Activation)       (None, 128, 80, 80,  0           conv3d_7[0][0]                   \n",
      "__________________________________________________________________________________________________\n",
      "up_sampling3d_1 (UpSampling3D)  (None, 128, 160, 160 0           activation_4[0][0]               \n",
      "__________________________________________________________________________________________________\n",
      "concatenate_1 (Concatenate)     (None, 192, 160, 160 0           up_sampling3d_1[0][0]            \n",
      "                                                                 activation_2[0][0]               \n",
      "__________________________________________________________________________________________________\n",
      "conv3d_8 (Conv3D)               (None, 64, 160, 160, 331840      concatenate_1[0][0]              \n",
      "__________________________________________________________________________________________________\n",
      "activation_5 (Activation)       (None, 64, 160, 160, 0           conv3d_8[0][0]                   \n",
      "__________________________________________________________________________________________________\n",
      "conv3d_9 (Conv3D)               (None, 64, 160, 160, 110656      activation_5[0][0]               \n",
      "__________________________________________________________________________________________________\n",
      "activation_6 (Activation)       (None, 64, 160, 160, 0           conv3d_9[0][0]                   \n",
      "__________________________________________________________________________________________________\n",
      "conv3d_10 (Conv3D)              (None, 3, 160, 160,  195         activation_6[0][0]               \n",
      "__________________________________________________________________________________________________\n",
      "activation_7 (Activation)       (None, 3, 160, 160,  0           conv3d_10[0][0]                  \n",
      "==================================================================================================\n",
      "Total params: 833,507\n",
      "Trainable params: 833,507\n",
      "Non-trainable params: 0\n",
      "__________________________________________________________________________________________________\n"
     ]
    }
   ],
   "source": [
    "# Print out a summary of the model you created\n",
    "model.summary()"
   ]
  },
  {
   "cell_type": "markdown",
   "metadata": {},
   "source": [
    "### Congratulations! You've created your very own U-Net model architecture!\n",
    "Next, you'll check that you did everything correctly by comparing your model summary to the example model defined below.\n",
    "\n",
    "### Double check your model\n",
    "\n",
    "To double check that you created the correct model, use a function that we've provided to create the same model, and check that the layers and the layer dimensions match!"
   ]
  },
  {
   "cell_type": "code",
   "execution_count": 23,
   "metadata": {},
   "outputs": [],
   "source": [
    "# Import predefined utilities\n",
    "import util"
   ]
  },
  {
   "cell_type": "code",
   "execution_count": 24,
   "metadata": {},
   "outputs": [],
   "source": [
    "# Create a model using a predefined function\n",
    "model_2 = util.unet_model_3d(depth=2,\n",
    "                                loss_function='categorical_crossentropy',\n",
    "                                metrics=['categorical_accuracy'])"
   ]
  },
  {
   "cell_type": "code",
   "execution_count": 25,
   "metadata": {
    "scrolled": true
   },
   "outputs": [
    {
     "name": "stdout",
     "output_type": "stream",
     "text": [
      "Model: \"model_2\"\n",
      "__________________________________________________________________________________________________\n",
      "Layer (type)                    Output Shape         Param #     Connected to                     \n",
      "==================================================================================================\n",
      "input_2 (InputLayer)            (None, 4, 160, 160,  0                                            \n",
      "__________________________________________________________________________________________________\n",
      "conv3d_9 (Conv3D)               (None, 32, 160, 160, 3488        input_2[0][0]                    \n",
      "__________________________________________________________________________________________________\n",
      "activation_9 (Activation)       (None, 32, 160, 160, 0           conv3d_9[0][0]                   \n",
      "__________________________________________________________________________________________________\n",
      "conv3d_10 (Conv3D)              (None, 64, 160, 160, 55360       activation_9[0][0]               \n",
      "__________________________________________________________________________________________________\n",
      "activation_10 (Activation)      (None, 64, 160, 160, 0           conv3d_10[0][0]                  \n",
      "__________________________________________________________________________________________________\n",
      "max_pooling3d_2 (MaxPooling3D)  (None, 64, 80, 80, 8 0           activation_10[0][0]              \n",
      "__________________________________________________________________________________________________\n",
      "conv3d_11 (Conv3D)              (None, 64, 80, 80, 8 110656      max_pooling3d_2[0][0]            \n",
      "__________________________________________________________________________________________________\n",
      "activation_11 (Activation)      (None, 64, 80, 80, 8 0           conv3d_11[0][0]                  \n",
      "__________________________________________________________________________________________________\n",
      "conv3d_12 (Conv3D)              (None, 128, 80, 80,  221312      activation_11[0][0]              \n",
      "__________________________________________________________________________________________________\n",
      "activation_12 (Activation)      (None, 128, 80, 80,  0           conv3d_12[0][0]                  \n",
      "__________________________________________________________________________________________________\n",
      "up_sampling3d_2 (UpSampling3D)  (None, 128, 160, 160 0           activation_12[0][0]              \n",
      "__________________________________________________________________________________________________\n",
      "concatenate_2 (Concatenate)     (None, 192, 160, 160 0           up_sampling3d_2[0][0]            \n",
      "                                                                 activation_10[0][0]              \n",
      "__________________________________________________________________________________________________\n",
      "conv3d_13 (Conv3D)              (None, 64, 160, 160, 331840      concatenate_2[0][0]              \n",
      "__________________________________________________________________________________________________\n",
      "activation_13 (Activation)      (None, 64, 160, 160, 0           conv3d_13[0][0]                  \n",
      "__________________________________________________________________________________________________\n",
      "conv3d_14 (Conv3D)              (None, 64, 160, 160, 110656      activation_13[0][0]              \n",
      "__________________________________________________________________________________________________\n",
      "activation_14 (Activation)      (None, 64, 160, 160, 0           conv3d_14[0][0]                  \n",
      "__________________________________________________________________________________________________\n",
      "conv3d_15 (Conv3D)              (None, 3, 160, 160,  195         activation_14[0][0]              \n",
      "__________________________________________________________________________________________________\n",
      "activation_15 (Activation)      (None, 3, 160, 160,  0           conv3d_15[0][0]                  \n",
      "==================================================================================================\n",
      "Total params: 833,507\n",
      "Trainable params: 833,507\n",
      "Non-trainable params: 0\n",
      "__________________________________________________________________________________________________\n"
     ]
    }
   ],
   "source": [
    "# Print out a summary of the model created by the predefined function\n",
    "model_2.summary()"
   ]
  },
  {
   "cell_type": "markdown",
   "metadata": {},
   "source": [
    "#### Look at the model summary for the U-Net you created and compare it to the summary for the example model created by the predefined function you imported above. "
   ]
  },
  {
   "cell_type": "markdown",
   "metadata": {},
   "source": [
    "#### That's it for this exercise, we hope this have provided you with more insight into the network architecture you'll be working with in this week's assignment!"
   ]
  },
  {
   "cell_type": "code",
   "execution_count": 34,
   "metadata": {},
   "outputs": [
    {
     "data": {
      "image/svg+xml": [
       "<svg height=\"1715pt\" viewBox=\"0.00 0.00 265.00 1286.00\" width=\"353pt\" xmlns=\"http://www.w3.org/2000/svg\" xmlns:xlink=\"http://www.w3.org/1999/xlink\">\n",
       "<g class=\"graph\" id=\"graph0\" transform=\"scale(1.33333 1.33333) rotate(0) translate(4 1282)\">\n",
       "<title>G</title>\n",
       "<polygon fill=\"white\" points=\"-4,4 -4,-1282 261,-1282 261,4 -4,4\" stroke=\"none\"/>\n",
       "<!-- 1992112246024 -->\n",
       "<g class=\"node\" id=\"node1\"><title>1992112246024</title>\n",
       "<polygon fill=\"none\" points=\"107.5,-1241.5 107.5,-1277.5 233.5,-1277.5 233.5,-1241.5 107.5,-1241.5\" stroke=\"black\"/>\n",
       "<text font-family=\"Times New Roman,serif\" font-size=\"14.00\" text-anchor=\"middle\" x=\"170.5\" y=\"-1255.8\">input_3: InputLayer</text>\n",
       "</g>\n",
       "<!-- 1992112382280 -->\n",
       "<g class=\"node\" id=\"node2\"><title>1992112382280</title>\n",
       "<polygon fill=\"none\" points=\"107,-1168.5 107,-1204.5 234,-1204.5 234,-1168.5 107,-1168.5\" stroke=\"black\"/>\n",
       "<text font-family=\"Times New Roman,serif\" font-size=\"14.00\" text-anchor=\"middle\" x=\"170.5\" y=\"-1182.8\">conv3d_4: Conv3D</text>\n",
       "</g>\n",
       "<!-- 1992112246024&#45;&gt;1992112382280 -->\n",
       "<g class=\"edge\" id=\"edge1\"><title>1992112246024-&gt;1992112382280</title>\n",
       "<path d=\"M170.5,-1241.31C170.5,-1233.29 170.5,-1223.55 170.5,-1214.57\" fill=\"none\" stroke=\"black\"/>\n",
       "<polygon fill=\"black\" points=\"174,-1214.53 170.5,-1204.53 167,-1214.53 174,-1214.53\" stroke=\"black\"/>\n",
       "</g>\n",
       "<!-- 1992112383240 -->\n",
       "<g class=\"node\" id=\"node3\"><title>1992112383240</title>\n",
       "<polygon fill=\"none\" points=\"96.5,-1095.5 96.5,-1131.5 244.5,-1131.5 244.5,-1095.5 96.5,-1095.5\" stroke=\"black\"/>\n",
       "<text font-family=\"Times New Roman,serif\" font-size=\"14.00\" text-anchor=\"middle\" x=\"170.5\" y=\"-1109.8\">activation_1: Activation</text>\n",
       "</g>\n",
       "<!-- 1992112382280&#45;&gt;1992112383240 -->\n",
       "<g class=\"edge\" id=\"edge2\"><title>1992112382280-&gt;1992112383240</title>\n",
       "<path d=\"M170.5,-1168.31C170.5,-1160.29 170.5,-1150.55 170.5,-1141.57\" fill=\"none\" stroke=\"black\"/>\n",
       "<polygon fill=\"black\" points=\"174,-1141.53 170.5,-1131.53 167,-1141.53 174,-1141.53\" stroke=\"black\"/>\n",
       "</g>\n",
       "<!-- 1992112441864 -->\n",
       "<g class=\"node\" id=\"node4\"><title>1992112441864</title>\n",
       "<polygon fill=\"none\" points=\"107,-1022.5 107,-1058.5 234,-1058.5 234,-1022.5 107,-1022.5\" stroke=\"black\"/>\n",
       "<text font-family=\"Times New Roman,serif\" font-size=\"14.00\" text-anchor=\"middle\" x=\"170.5\" y=\"-1036.8\">conv3d_5: Conv3D</text>\n",
       "</g>\n",
       "<!-- 1992112383240&#45;&gt;1992112441864 -->\n",
       "<g class=\"edge\" id=\"edge3\"><title>1992112383240-&gt;1992112441864</title>\n",
       "<path d=\"M170.5,-1095.31C170.5,-1087.29 170.5,-1077.55 170.5,-1068.57\" fill=\"none\" stroke=\"black\"/>\n",
       "<polygon fill=\"black\" points=\"174,-1068.53 170.5,-1058.53 167,-1068.53 174,-1068.53\" stroke=\"black\"/>\n",
       "</g>\n",
       "<!-- 1992112441800 -->\n",
       "<g class=\"node\" id=\"node5\"><title>1992112441800</title>\n",
       "<polygon fill=\"none\" points=\"96.5,-949.5 96.5,-985.5 244.5,-985.5 244.5,-949.5 96.5,-949.5\" stroke=\"black\"/>\n",
       "<text font-family=\"Times New Roman,serif\" font-size=\"14.00\" text-anchor=\"middle\" x=\"170.5\" y=\"-963.8\">activation_2: Activation</text>\n",
       "</g>\n",
       "<!-- 1992112441864&#45;&gt;1992112441800 -->\n",
       "<g class=\"edge\" id=\"edge4\"><title>1992112441864-&gt;1992112441800</title>\n",
       "<path d=\"M170.5,-1022.31C170.5,-1014.29 170.5,-1004.55 170.5,-995.569\" fill=\"none\" stroke=\"black\"/>\n",
       "<polygon fill=\"black\" points=\"174,-995.529 170.5,-985.529 167,-995.529 174,-995.529\" stroke=\"black\"/>\n",
       "</g>\n",
       "<!-- 1992112441992 -->\n",
       "<g class=\"node\" id=\"node6\"><title>1992112441992</title>\n",
       "<polygon fill=\"none\" points=\"0,-876.5 0,-912.5 209,-912.5 209,-876.5 0,-876.5\" stroke=\"black\"/>\n",
       "<text font-family=\"Times New Roman,serif\" font-size=\"14.00\" text-anchor=\"middle\" x=\"104.5\" y=\"-890.8\">max_pooling3d_1: MaxPooling3D</text>\n",
       "</g>\n",
       "<!-- 1992112441800&#45;&gt;1992112441992 -->\n",
       "<g class=\"edge\" id=\"edge5\"><title>1992112441800-&gt;1992112441992</title>\n",
       "<path d=\"M154.523,-949.313C146.335,-940.505 136.222,-929.625 127.236,-919.958\" fill=\"none\" stroke=\"black\"/>\n",
       "<polygon fill=\"black\" points=\"129.702,-917.47 120.33,-912.529 124.575,-922.236 129.702,-917.47\" stroke=\"black\"/>\n",
       "</g>\n",
       "<!-- 1992129360776 -->\n",
       "<g class=\"node\" id=\"node12\"><title>1992129360776</title>\n",
       "<polygon fill=\"none\" points=\"84,-438.5 84,-474.5 257,-474.5 257,-438.5 84,-438.5\" stroke=\"black\"/>\n",
       "<text font-family=\"Times New Roman,serif\" font-size=\"14.00\" text-anchor=\"middle\" x=\"170.5\" y=\"-452.8\">concatenate_1: Concatenate</text>\n",
       "</g>\n",
       "<!-- 1992112441800&#45;&gt;1992129360776 -->\n",
       "<g class=\"edge\" id=\"edge12\"><title>1992112441800-&gt;1992129360776</title>\n",
       "<path d=\"M189.573,-949.403C199.325,-939.653 210.569,-926.674 217.5,-913 236.125,-876.258 237.5,-863.693 237.5,-822.5 237.5,-822.5 237.5,-822.5 237.5,-601.5 237.5,-560.307 236.125,-547.742 217.5,-511 212.193,-500.531 204.358,-490.469 196.601,-481.952\" fill=\"none\" stroke=\"black\"/>\n",
       "<polygon fill=\"black\" points=\"199.012,-479.409 189.573,-474.597 193.951,-484.245 199.012,-479.409\" stroke=\"black\"/>\n",
       "</g>\n",
       "<!-- 1992112522504 -->\n",
       "<g class=\"node\" id=\"node7\"><title>1992112522504</title>\n",
       "<polygon fill=\"none\" points=\"41,-803.5 41,-839.5 168,-839.5 168,-803.5 41,-803.5\" stroke=\"black\"/>\n",
       "<text font-family=\"Times New Roman,serif\" font-size=\"14.00\" text-anchor=\"middle\" x=\"104.5\" y=\"-817.8\">conv3d_6: Conv3D</text>\n",
       "</g>\n",
       "<!-- 1992112441992&#45;&gt;1992112522504 -->\n",
       "<g class=\"edge\" id=\"edge6\"><title>1992112441992-&gt;1992112522504</title>\n",
       "<path d=\"M104.5,-876.313C104.5,-868.289 104.5,-858.547 104.5,-849.569\" fill=\"none\" stroke=\"black\"/>\n",
       "<polygon fill=\"black\" points=\"108,-849.529 104.5,-839.529 101,-849.529 108,-849.529\" stroke=\"black\"/>\n",
       "</g>\n",
       "<!-- 1992112522440 -->\n",
       "<g class=\"node\" id=\"node8\"><title>1992112522440</title>\n",
       "<polygon fill=\"none\" points=\"30.5,-730.5 30.5,-766.5 178.5,-766.5 178.5,-730.5 30.5,-730.5\" stroke=\"black\"/>\n",
       "<text font-family=\"Times New Roman,serif\" font-size=\"14.00\" text-anchor=\"middle\" x=\"104.5\" y=\"-744.8\">activation_3: Activation</text>\n",
       "</g>\n",
       "<!-- 1992112522504&#45;&gt;1992112522440 -->\n",
       "<g class=\"edge\" id=\"edge7\"><title>1992112522504-&gt;1992112522440</title>\n",
       "<path d=\"M104.5,-803.313C104.5,-795.289 104.5,-785.547 104.5,-776.569\" fill=\"none\" stroke=\"black\"/>\n",
       "<polygon fill=\"black\" points=\"108,-776.529 104.5,-766.529 101,-776.529 108,-776.529\" stroke=\"black\"/>\n",
       "</g>\n",
       "<!-- 1992112570952 -->\n",
       "<g class=\"node\" id=\"node9\"><title>1992112570952</title>\n",
       "<polygon fill=\"none\" points=\"41,-657.5 41,-693.5 168,-693.5 168,-657.5 41,-657.5\" stroke=\"black\"/>\n",
       "<text font-family=\"Times New Roman,serif\" font-size=\"14.00\" text-anchor=\"middle\" x=\"104.5\" y=\"-671.8\">conv3d_7: Conv3D</text>\n",
       "</g>\n",
       "<!-- 1992112522440&#45;&gt;1992112570952 -->\n",
       "<g class=\"edge\" id=\"edge8\"><title>1992112522440-&gt;1992112570952</title>\n",
       "<path d=\"M104.5,-730.313C104.5,-722.289 104.5,-712.547 104.5,-703.569\" fill=\"none\" stroke=\"black\"/>\n",
       "<polygon fill=\"black\" points=\"108,-703.529 104.5,-693.529 101,-703.529 108,-703.529\" stroke=\"black\"/>\n",
       "</g>\n",
       "<!-- 1992112570760 -->\n",
       "<g class=\"node\" id=\"node10\"><title>1992112570760</title>\n",
       "<polygon fill=\"none\" points=\"30.5,-584.5 30.5,-620.5 178.5,-620.5 178.5,-584.5 30.5,-584.5\" stroke=\"black\"/>\n",
       "<text font-family=\"Times New Roman,serif\" font-size=\"14.00\" text-anchor=\"middle\" x=\"104.5\" y=\"-598.8\">activation_4: Activation</text>\n",
       "</g>\n",
       "<!-- 1992112570952&#45;&gt;1992112570760 -->\n",
       "<g class=\"edge\" id=\"edge9\"><title>1992112570952-&gt;1992112570760</title>\n",
       "<path d=\"M104.5,-657.313C104.5,-649.289 104.5,-639.547 104.5,-630.569\" fill=\"none\" stroke=\"black\"/>\n",
       "<polygon fill=\"black\" points=\"108,-630.529 104.5,-620.529 101,-630.529 108,-630.529\" stroke=\"black\"/>\n",
       "</g>\n",
       "<!-- 1992112570824 -->\n",
       "<g class=\"node\" id=\"node11\"><title>1992112570824</title>\n",
       "<polygon fill=\"none\" points=\"0,-511.5 0,-547.5 209,-547.5 209,-511.5 0,-511.5\" stroke=\"black\"/>\n",
       "<text font-family=\"Times New Roman,serif\" font-size=\"14.00\" text-anchor=\"middle\" x=\"104.5\" y=\"-525.8\">up_sampling3d_1: UpSampling3D</text>\n",
       "</g>\n",
       "<!-- 1992112570760&#45;&gt;1992112570824 -->\n",
       "<g class=\"edge\" id=\"edge10\"><title>1992112570760-&gt;1992112570824</title>\n",
       "<path d=\"M104.5,-584.313C104.5,-576.289 104.5,-566.547 104.5,-557.569\" fill=\"none\" stroke=\"black\"/>\n",
       "<polygon fill=\"black\" points=\"108,-557.529 104.5,-547.529 101,-557.529 108,-557.529\" stroke=\"black\"/>\n",
       "</g>\n",
       "<!-- 1992112570824&#45;&gt;1992129360776 -->\n",
       "<g class=\"edge\" id=\"edge11\"><title>1992112570824-&gt;1992129360776</title>\n",
       "<path d=\"M120.477,-511.313C128.665,-502.505 138.778,-491.625 147.764,-481.958\" fill=\"none\" stroke=\"black\"/>\n",
       "<polygon fill=\"black\" points=\"150.425,-484.236 154.67,-474.529 145.298,-479.47 150.425,-484.236\" stroke=\"black\"/>\n",
       "</g>\n",
       "<!-- 1992129389384 -->\n",
       "<g class=\"node\" id=\"node13\"><title>1992129389384</title>\n",
       "<polygon fill=\"none\" points=\"107,-365.5 107,-401.5 234,-401.5 234,-365.5 107,-365.5\" stroke=\"black\"/>\n",
       "<text font-family=\"Times New Roman,serif\" font-size=\"14.00\" text-anchor=\"middle\" x=\"170.5\" y=\"-379.8\">conv3d_8: Conv3D</text>\n",
       "</g>\n",
       "<!-- 1992129360776&#45;&gt;1992129389384 -->\n",
       "<g class=\"edge\" id=\"edge13\"><title>1992129360776-&gt;1992129389384</title>\n",
       "<path d=\"M170.5,-438.313C170.5,-430.289 170.5,-420.547 170.5,-411.569\" fill=\"none\" stroke=\"black\"/>\n",
       "<polygon fill=\"black\" points=\"174,-411.529 170.5,-401.529 167,-411.529 174,-411.529\" stroke=\"black\"/>\n",
       "</g>\n",
       "<!-- 1992129363016 -->\n",
       "<g class=\"node\" id=\"node14\"><title>1992129363016</title>\n",
       "<polygon fill=\"none\" points=\"96.5,-292.5 96.5,-328.5 244.5,-328.5 244.5,-292.5 96.5,-292.5\" stroke=\"black\"/>\n",
       "<text font-family=\"Times New Roman,serif\" font-size=\"14.00\" text-anchor=\"middle\" x=\"170.5\" y=\"-306.8\">activation_5: Activation</text>\n",
       "</g>\n",
       "<!-- 1992129389384&#45;&gt;1992129363016 -->\n",
       "<g class=\"edge\" id=\"edge14\"><title>1992129389384-&gt;1992129363016</title>\n",
       "<path d=\"M170.5,-365.313C170.5,-357.289 170.5,-347.547 170.5,-338.569\" fill=\"none\" stroke=\"black\"/>\n",
       "<polygon fill=\"black\" points=\"174,-338.529 170.5,-328.529 167,-338.529 174,-338.529\" stroke=\"black\"/>\n",
       "</g>\n",
       "<!-- 1992129450568 -->\n",
       "<g class=\"node\" id=\"node15\"><title>1992129450568</title>\n",
       "<polygon fill=\"none\" points=\"107,-219.5 107,-255.5 234,-255.5 234,-219.5 107,-219.5\" stroke=\"black\"/>\n",
       "<text font-family=\"Times New Roman,serif\" font-size=\"14.00\" text-anchor=\"middle\" x=\"170.5\" y=\"-233.8\">conv3d_9: Conv3D</text>\n",
       "</g>\n",
       "<!-- 1992129363016&#45;&gt;1992129450568 -->\n",
       "<g class=\"edge\" id=\"edge15\"><title>1992129363016-&gt;1992129450568</title>\n",
       "<path d=\"M170.5,-292.313C170.5,-284.289 170.5,-274.547 170.5,-265.569\" fill=\"none\" stroke=\"black\"/>\n",
       "<polygon fill=\"black\" points=\"174,-265.529 170.5,-255.529 167,-265.529 174,-265.529\" stroke=\"black\"/>\n",
       "</g>\n",
       "<!-- 1992129450504 -->\n",
       "<g class=\"node\" id=\"node16\"><title>1992129450504</title>\n",
       "<polygon fill=\"none\" points=\"96.5,-146.5 96.5,-182.5 244.5,-182.5 244.5,-146.5 96.5,-146.5\" stroke=\"black\"/>\n",
       "<text font-family=\"Times New Roman,serif\" font-size=\"14.00\" text-anchor=\"middle\" x=\"170.5\" y=\"-160.8\">activation_6: Activation</text>\n",
       "</g>\n",
       "<!-- 1992129450568&#45;&gt;1992129450504 -->\n",
       "<g class=\"edge\" id=\"edge16\"><title>1992129450568-&gt;1992129450504</title>\n",
       "<path d=\"M170.5,-219.313C170.5,-211.289 170.5,-201.547 170.5,-192.569\" fill=\"none\" stroke=\"black\"/>\n",
       "<polygon fill=\"black\" points=\"174,-192.529 170.5,-182.529 167,-192.529 174,-192.529\" stroke=\"black\"/>\n",
       "</g>\n",
       "<!-- 1992129465992 -->\n",
       "<g class=\"node\" id=\"node17\"><title>1992129465992</title>\n",
       "<polygon fill=\"none\" points=\"103.5,-73.5 103.5,-109.5 237.5,-109.5 237.5,-73.5 103.5,-73.5\" stroke=\"black\"/>\n",
       "<text font-family=\"Times New Roman,serif\" font-size=\"14.00\" text-anchor=\"middle\" x=\"170.5\" y=\"-87.8\">conv3d_10: Conv3D</text>\n",
       "</g>\n",
       "<!-- 1992129450504&#45;&gt;1992129465992 -->\n",
       "<g class=\"edge\" id=\"edge17\"><title>1992129450504-&gt;1992129465992</title>\n",
       "<path d=\"M170.5,-146.313C170.5,-138.289 170.5,-128.547 170.5,-119.569\" fill=\"none\" stroke=\"black\"/>\n",
       "<polygon fill=\"black\" points=\"174,-119.529 170.5,-109.529 167,-119.529 174,-119.529\" stroke=\"black\"/>\n",
       "</g>\n",
       "<!-- 1992129480136 -->\n",
       "<g class=\"node\" id=\"node18\"><title>1992129480136</title>\n",
       "<polygon fill=\"none\" points=\"96.5,-0.5 96.5,-36.5 244.5,-36.5 244.5,-0.5 96.5,-0.5\" stroke=\"black\"/>\n",
       "<text font-family=\"Times New Roman,serif\" font-size=\"14.00\" text-anchor=\"middle\" x=\"170.5\" y=\"-14.8\">activation_7: Activation</text>\n",
       "</g>\n",
       "<!-- 1992129465992&#45;&gt;1992129480136 -->\n",
       "<g class=\"edge\" id=\"edge18\"><title>1992129465992-&gt;1992129480136</title>\n",
       "<path d=\"M170.5,-73.3129C170.5,-65.2895 170.5,-55.5475 170.5,-46.5691\" fill=\"none\" stroke=\"black\"/>\n",
       "<polygon fill=\"black\" points=\"174,-46.5288 170.5,-36.5288 167,-46.5289 174,-46.5288\" stroke=\"black\"/>\n",
       "</g>\n",
       "</g>\n",
       "</svg>"
      ],
      "text/plain": [
       "<IPython.core.display.SVG object>"
      ]
     },
     "execution_count": 34,
     "metadata": {},
     "output_type": "execute_result"
    }
   ],
   "source": [
    "import pydot\n",
    "from IPython.display import SVG\n",
    "from keras.utils.vis_utils import model_to_dot\n",
    "from keras.utils import plot_model\n",
    "plot_model(model, to_file='model.png')\n",
    "SVG(model_to_dot(model).create(prog='dot', format='svg'))"
   ]
  }
 ],
 "metadata": {
  "kernelspec": {
   "display_name": "Python 3",
   "language": "python",
   "name": "python3"
  },
  "language_info": {
   "codemirror_mode": {
    "name": "ipython",
    "version": 3
   },
   "file_extension": ".py",
   "mimetype": "text/x-python",
   "name": "python",
   "nbconvert_exporter": "python",
   "pygments_lexer": "ipython3",
   "version": "3.7.7"
  }
 },
 "nbformat": 4,
 "nbformat_minor": 4
}
